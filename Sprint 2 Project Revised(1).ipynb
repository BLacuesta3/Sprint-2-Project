{
 "cells": [
  {
   "cell_type": "markdown",
   "id": "95d13f8a",
   "metadata": {},
   "source": [
    "Hello!\n",
    "My name is Ekaterina. I'm happy to review your project today.\n",
    "When I will see mistake at the first time, I will just point it out. I let you find it and fix it by \n",
    "yourself. I'm trying to prepare you to work as an Data Analyst. SO, at a real job, your team lead \n",
    "will do the same. But if you can't handle this task yet, I will give you a more accurate hint at the \n",
    "next iteration.\n",
    "You will find my comments below - please do not move, modify or delete them.\n",
    "You can find my comments in green, yellow or red boxes like this:\n",
    "<div class=\"alert alert-block alert-success\"> <b>Reviewer's comment</b> <a \n",
    "class=\"tocSkip\"></a>\n",
    "Success. Everything is done succesfully. </div>\n",
    "<div class=\"alert alert-block alert-warning\"> <b>Reviewer's comment</b> <a \n",
    "class=\"tocSkip\"></a>\n",
    "Remarks. Some recommendations. </div>\n",
    "<div class=\"alert alert-block alert-danger\">\n",
    "<b>Reviewer's comment</b> <a class=\"tocSkip\"></a>\n",
    "Needs fixing. The block requires some corrections. Work can't be accepted with the red \n",
    "comments. </div>\n",
    "You can answer me by using this:\n",
    "<div class=\"alert alert-block alert-info\"> <b>Student answer.</b> <a class=\"tocSkip\"></a> \n",
    "</div>\n",
    "\n",
    "\n",
    "**Keep in mind that the project will be accepted only when all the “red” issues are resolved.**\n"
   ]
  },
  {
   "cell_type": "markdown",
   "id": "d6ab3d74",
   "metadata": {},
   "source": [
    "<div class=\"alert alert-block alert-success\">\n",
    "    \n",
    "<b>**General feedback**</b> <a class=\"tocSkip\"></a>\n",
    "    \n",
    "Hi, Byron\n",
    "    \n",
    "Thank you for submiting your project\n",
    "    \n",
    "    \n",
    "There are many things that I like:\n",
    "    \n",
    "- good structure\n",
    "- you completed all necessary tasks\n",
    "- nice visualizations\n",
    "    \n",
    "    \n",
    "<div class=\"alert alert-block alert-danger\">\n",
    "<b></b> <a class=\"tocSkip\"></a>\n",
    "There are some tasks not correct Please fix it</div>\n",
    "    \n",
    "    \n",
    "    \n",
    "One more time and you will have it\n",
    "    \n",
    "\n",
    "\n",
    "\n",
    "</div>"
   ]
  },
  {
   "cell_type": "markdown",
   "id": "8967b9f0",
   "metadata": {},
   "source": [
    "<div class=\"alert alert-block alert-success\">\n",
    "    \n",
    "<b>**General feedback v2**</b> <a class=\"tocSkip\"></a>\n",
    "    \n",
    "Hi, Byron\n",
    "    \n",
    "Thank you for your correcttions. they look great\n",
    "    \n",
    "**Now your project is perfect and I am happy to say that it has been accepted**\n",
    "    \n",
    "Keep up good job and good luck in the next sprint"
   ]
  },
  {
   "cell_type": "markdown",
   "id": "a2033d2a",
   "metadata": {},
   "source": [
    "<div class=\"alert alert-block alert-danger\">\n",
    "<b>Reviewer's comment</b> <a class=\"tocSkip\"></a>\n",
    "    \n",
    "~~Please, add project title and project description~~ </div>"
   ]
  },
  {
   "cell_type": "markdown",
   "id": "d2450159",
   "metadata": {},
   "source": [
    "Project Title: Sprint 2 Project (Statistics Data Analysis)\n",
    "\n",
    "Project Description:  The Sprint 2 Project (Statistics Data Analysis) involves using skills learned in the previous\n",
    "content of the Sprint 2 theory in order to: check for missing and duplicate values, delete and fill in missing values,\n",
    "compose plots and check for certain patterns in the orders, products, aisles, departments, and order_products dataframes."
   ]
  },
  {
   "cell_type": "code",
   "execution_count": 1,
   "id": "fbf1adab",
   "metadata": {},
   "outputs": [],
   "source": [
    "#Import the necessary libraries.\n",
    "import pandas as pd\n",
    "\n",
    "import matplotlib.pyplot as plt \n",
    "\n",
    "import numpy as np"
   ]
  },
  {
   "cell_type": "markdown",
   "id": "92beb2f5",
   "metadata": {},
   "source": [
    "<div class=\"alert alert-block alert-warning\"> <b>Reviewer's comment</b> <a \n",
    "class=\"tocSkip\"></a>\n",
    "You can import all libraries in the same cell  </div>"
   ]
  },
  {
   "cell_type": "code",
   "execution_count": 2,
   "id": "5130e05e",
   "metadata": {},
   "outputs": [],
   "source": [
    "#import datasets with pd.read_csv() and add sep= and decimal= to pd.read_csv() to clean the dataset.\n",
    "orders = pd.read_csv('instacart_orders (1).csv',sep = ';', decimal = ';')\n",
    "\n",
    "products = pd.read_csv('products.csv', sep = ';', decimal = ';' )\n",
    "\n",
    "aisles = pd.read_csv('aisles.csv', sep = ';')\n",
    "\n",
    "departments = pd.read_csv('departments.csv', sep =';')\n",
    "\n",
    "order_products = pd.read_csv('order_products(1).csv', sep= ';', decimal = ';' )"
   ]
  },
  {
   "cell_type": "markdown",
   "id": "1e5353d4",
   "metadata": {},
   "source": [
    "<div class=\"alert alert-block alert-warning\"> <b>Reviewer's comment</b> <a \n",
    "class=\"tocSkip\"></a>\n",
    "    \n",
    "~~There is no need to upload order_products twice~~  </div>"
   ]
  },
  {
   "cell_type": "code",
   "execution_count": 3,
   "id": "bd2498a4",
   "metadata": {},
   "outputs": [
    {
     "data": {
      "text/html": [
       "<div>\n",
       "<style scoped>\n",
       "    .dataframe tbody tr th:only-of-type {\n",
       "        vertical-align: middle;\n",
       "    }\n",
       "\n",
       "    .dataframe tbody tr th {\n",
       "        vertical-align: top;\n",
       "    }\n",
       "\n",
       "    .dataframe thead th {\n",
       "        text-align: right;\n",
       "    }\n",
       "</style>\n",
       "<table border=\"1\" class=\"dataframe\">\n",
       "  <thead>\n",
       "    <tr style=\"text-align: right;\">\n",
       "      <th></th>\n",
       "      <th>product_id</th>\n",
       "      <th>product_name</th>\n",
       "      <th>aisle_id</th>\n",
       "      <th>department_id</th>\n",
       "    </tr>\n",
       "  </thead>\n",
       "  <tbody>\n",
       "    <tr>\n",
       "      <th>37</th>\n",
       "      <td>38</td>\n",
       "      <td>NaN</td>\n",
       "      <td>100</td>\n",
       "      <td>21</td>\n",
       "    </tr>\n",
       "    <tr>\n",
       "      <th>71</th>\n",
       "      <td>72</td>\n",
       "      <td>NaN</td>\n",
       "      <td>100</td>\n",
       "      <td>21</td>\n",
       "    </tr>\n",
       "    <tr>\n",
       "      <th>109</th>\n",
       "      <td>110</td>\n",
       "      <td>NaN</td>\n",
       "      <td>100</td>\n",
       "      <td>21</td>\n",
       "    </tr>\n",
       "    <tr>\n",
       "      <th>296</th>\n",
       "      <td>297</td>\n",
       "      <td>NaN</td>\n",
       "      <td>100</td>\n",
       "      <td>21</td>\n",
       "    </tr>\n",
       "    <tr>\n",
       "      <th>416</th>\n",
       "      <td>417</td>\n",
       "      <td>NaN</td>\n",
       "      <td>100</td>\n",
       "      <td>21</td>\n",
       "    </tr>\n",
       "    <tr>\n",
       "      <th>...</th>\n",
       "      <td>...</td>\n",
       "      <td>...</td>\n",
       "      <td>...</td>\n",
       "      <td>...</td>\n",
       "    </tr>\n",
       "    <tr>\n",
       "      <th>49552</th>\n",
       "      <td>49553</td>\n",
       "      <td>NaN</td>\n",
       "      <td>100</td>\n",
       "      <td>21</td>\n",
       "    </tr>\n",
       "    <tr>\n",
       "      <th>49574</th>\n",
       "      <td>49575</td>\n",
       "      <td>NaN</td>\n",
       "      <td>100</td>\n",
       "      <td>21</td>\n",
       "    </tr>\n",
       "    <tr>\n",
       "      <th>49640</th>\n",
       "      <td>49641</td>\n",
       "      <td>NaN</td>\n",
       "      <td>100</td>\n",
       "      <td>21</td>\n",
       "    </tr>\n",
       "    <tr>\n",
       "      <th>49663</th>\n",
       "      <td>49664</td>\n",
       "      <td>NaN</td>\n",
       "      <td>100</td>\n",
       "      <td>21</td>\n",
       "    </tr>\n",
       "    <tr>\n",
       "      <th>49668</th>\n",
       "      <td>49669</td>\n",
       "      <td>NaN</td>\n",
       "      <td>100</td>\n",
       "      <td>21</td>\n",
       "    </tr>\n",
       "  </tbody>\n",
       "</table>\n",
       "<p>1258 rows × 4 columns</p>\n",
       "</div>"
      ],
      "text/plain": [
       "       product_id product_name  aisle_id  department_id\n",
       "37             38          NaN       100             21\n",
       "71             72          NaN       100             21\n",
       "109           110          NaN       100             21\n",
       "296           297          NaN       100             21\n",
       "416           417          NaN       100             21\n",
       "...           ...          ...       ...            ...\n",
       "49552       49553          NaN       100             21\n",
       "49574       49575          NaN       100             21\n",
       "49640       49641          NaN       100             21\n",
       "49663       49664          NaN       100             21\n",
       "49668       49669          NaN       100             21\n",
       "\n",
       "[1258 rows x 4 columns]"
      ]
     },
     "execution_count": 3,
     "metadata": {},
     "output_type": "execute_result"
    }
   ],
   "source": [
    "#search for missing values in the product name column in the products data frame for one of the tasks below\n",
    "#Use the isna() method to display all missing values in the product_name column of the products dataframe.\n",
    "products[ products['product_name'].isna() ]"
   ]
  },
  {
   "cell_type": "markdown",
   "id": "3f2d4c81",
   "metadata": {},
   "source": [
    "Code Result: There are missing rows noted in the product name column of the products dataframe."
   ]
  },
  {
   "cell_type": "markdown",
   "id": "5e68dbeb",
   "metadata": {},
   "source": [
    "<div class=\"alert alert-block alert-success\"> <b>Reviewer's comment</b> <a \n",
    "class=\"tocSkip\"></a>\n",
    "You are right You also can use products.isna().sum() or products.info() </div>"
   ]
  },
  {
   "cell_type": "code",
   "execution_count": 4,
   "id": "d8370c05",
   "metadata": {},
   "outputs": [],
   "source": [
    "#Use the pd.to_numeric() function to convert the columns to numerical values.\n",
    "orders['days_since_prior_order'] = pd.to_numeric(orders['days_since_prior_order'], errors='coerce')\n",
    "\n",
    "order_products['add_to_cart_order'] = pd.to_numeric(order_products['add_to_cart_order'], errors='coerce')\n"
   ]
  },
  {
   "cell_type": "markdown",
   "id": "51627aff",
   "metadata": {},
   "source": [
    "<div class=\"alert alert-block alert-success\"> <b>Reviewer's comment</b> <a \n",
    "class=\"tocSkip\"></a>\n",
    "Great data types transformation You also can use astype('float') or astype('Int64')</div>\n",
    "\n"
   ]
  },
  {
   "cell_type": "markdown",
   "id": "07357848-dc64-4156-9cc3-01ff4365226d",
   "metadata": {},
   "source": [
    "## Find and remove duplicate values (and describe why you make your choices)"
   ]
  },
  {
   "cell_type": "markdown",
   "id": "f179f0a9",
   "metadata": {},
   "source": [
    "### `orders` data frame"
   ]
  },
  {
   "cell_type": "code",
   "execution_count": 5,
   "id": "b99297a5-405a-463d-8535-9adc3da4ad74",
   "metadata": {
    "scrolled": true
   },
   "outputs": [
    {
     "data": {
      "text/html": [
       "<div>\n",
       "<style scoped>\n",
       "    .dataframe tbody tr th:only-of-type {\n",
       "        vertical-align: middle;\n",
       "    }\n",
       "\n",
       "    .dataframe tbody tr th {\n",
       "        vertical-align: top;\n",
       "    }\n",
       "\n",
       "    .dataframe thead th {\n",
       "        text-align: right;\n",
       "    }\n",
       "</style>\n",
       "<table border=\"1\" class=\"dataframe\">\n",
       "  <thead>\n",
       "    <tr style=\"text-align: right;\">\n",
       "      <th></th>\n",
       "      <th>order_id</th>\n",
       "      <th>user_id</th>\n",
       "      <th>order_number</th>\n",
       "      <th>order_dow</th>\n",
       "      <th>order_hour_of_day</th>\n",
       "      <th>days_since_prior_order</th>\n",
       "    </tr>\n",
       "  </thead>\n",
       "  <tbody>\n",
       "    <tr>\n",
       "      <th>145574</th>\n",
       "      <td>794638</td>\n",
       "      <td>50898</td>\n",
       "      <td>24</td>\n",
       "      <td>3</td>\n",
       "      <td>2</td>\n",
       "      <td>2.0</td>\n",
       "    </tr>\n",
       "    <tr>\n",
       "      <th>223105</th>\n",
       "      <td>2160484</td>\n",
       "      <td>107525</td>\n",
       "      <td>16</td>\n",
       "      <td>3</td>\n",
       "      <td>2</td>\n",
       "      <td>30.0</td>\n",
       "    </tr>\n",
       "    <tr>\n",
       "      <th>230807</th>\n",
       "      <td>1918001</td>\n",
       "      <td>188546</td>\n",
       "      <td>14</td>\n",
       "      <td>3</td>\n",
       "      <td>2</td>\n",
       "      <td>16.0</td>\n",
       "    </tr>\n",
       "    <tr>\n",
       "      <th>266232</th>\n",
       "      <td>1782114</td>\n",
       "      <td>106752</td>\n",
       "      <td>1</td>\n",
       "      <td>3</td>\n",
       "      <td>2</td>\n",
       "      <td>NaN</td>\n",
       "    </tr>\n",
       "    <tr>\n",
       "      <th>273805</th>\n",
       "      <td>1112182</td>\n",
       "      <td>202304</td>\n",
       "      <td>84</td>\n",
       "      <td>3</td>\n",
       "      <td>2</td>\n",
       "      <td>6.0</td>\n",
       "    </tr>\n",
       "    <tr>\n",
       "      <th>284038</th>\n",
       "      <td>2845099</td>\n",
       "      <td>31189</td>\n",
       "      <td>11</td>\n",
       "      <td>3</td>\n",
       "      <td>2</td>\n",
       "      <td>7.0</td>\n",
       "    </tr>\n",
       "    <tr>\n",
       "      <th>311713</th>\n",
       "      <td>1021560</td>\n",
       "      <td>53767</td>\n",
       "      <td>3</td>\n",
       "      <td>3</td>\n",
       "      <td>2</td>\n",
       "      <td>9.0</td>\n",
       "    </tr>\n",
       "    <tr>\n",
       "      <th>321100</th>\n",
       "      <td>408114</td>\n",
       "      <td>68324</td>\n",
       "      <td>4</td>\n",
       "      <td>3</td>\n",
       "      <td>2</td>\n",
       "      <td>18.0</td>\n",
       "    </tr>\n",
       "    <tr>\n",
       "      <th>323900</th>\n",
       "      <td>1919531</td>\n",
       "      <td>191501</td>\n",
       "      <td>32</td>\n",
       "      <td>3</td>\n",
       "      <td>2</td>\n",
       "      <td>7.0</td>\n",
       "    </tr>\n",
       "    <tr>\n",
       "      <th>345917</th>\n",
       "      <td>2232988</td>\n",
       "      <td>82565</td>\n",
       "      <td>1</td>\n",
       "      <td>3</td>\n",
       "      <td>2</td>\n",
       "      <td>NaN</td>\n",
       "    </tr>\n",
       "    <tr>\n",
       "      <th>371905</th>\n",
       "      <td>391768</td>\n",
       "      <td>57671</td>\n",
       "      <td>19</td>\n",
       "      <td>3</td>\n",
       "      <td>2</td>\n",
       "      <td>10.0</td>\n",
       "    </tr>\n",
       "    <tr>\n",
       "      <th>394347</th>\n",
       "      <td>467134</td>\n",
       "      <td>63189</td>\n",
       "      <td>21</td>\n",
       "      <td>3</td>\n",
       "      <td>2</td>\n",
       "      <td>2.0</td>\n",
       "    </tr>\n",
       "    <tr>\n",
       "      <th>411408</th>\n",
       "      <td>1286742</td>\n",
       "      <td>183220</td>\n",
       "      <td>48</td>\n",
       "      <td>3</td>\n",
       "      <td>2</td>\n",
       "      <td>4.0</td>\n",
       "    </tr>\n",
       "    <tr>\n",
       "      <th>415163</th>\n",
       "      <td>2282673</td>\n",
       "      <td>86751</td>\n",
       "      <td>49</td>\n",
       "      <td>3</td>\n",
       "      <td>2</td>\n",
       "      <td>2.0</td>\n",
       "    </tr>\n",
       "    <tr>\n",
       "      <th>441599</th>\n",
       "      <td>2125197</td>\n",
       "      <td>14050</td>\n",
       "      <td>48</td>\n",
       "      <td>3</td>\n",
       "      <td>2</td>\n",
       "      <td>3.0</td>\n",
       "    </tr>\n",
       "  </tbody>\n",
       "</table>\n",
       "</div>"
      ],
      "text/plain": [
       "        order_id  user_id  order_number  order_dow  order_hour_of_day  \\\n",
       "145574    794638    50898            24          3                  2   \n",
       "223105   2160484   107525            16          3                  2   \n",
       "230807   1918001   188546            14          3                  2   \n",
       "266232   1782114   106752             1          3                  2   \n",
       "273805   1112182   202304            84          3                  2   \n",
       "284038   2845099    31189            11          3                  2   \n",
       "311713   1021560    53767             3          3                  2   \n",
       "321100    408114    68324             4          3                  2   \n",
       "323900   1919531   191501            32          3                  2   \n",
       "345917   2232988    82565             1          3                  2   \n",
       "371905    391768    57671            19          3                  2   \n",
       "394347    467134    63189            21          3                  2   \n",
       "411408   1286742   183220            48          3                  2   \n",
       "415163   2282673    86751            49          3                  2   \n",
       "441599   2125197    14050            48          3                  2   \n",
       "\n",
       "        days_since_prior_order  \n",
       "145574                     2.0  \n",
       "223105                    30.0  \n",
       "230807                    16.0  \n",
       "266232                     NaN  \n",
       "273805                     6.0  \n",
       "284038                     7.0  \n",
       "311713                     9.0  \n",
       "321100                    18.0  \n",
       "323900                     7.0  \n",
       "345917                     NaN  \n",
       "371905                    10.0  \n",
       "394347                     2.0  \n",
       "411408                     4.0  \n",
       "415163                     2.0  \n",
       "441599                     3.0  "
      ]
     },
     "execution_count": 5,
     "metadata": {},
     "output_type": "execute_result"
    }
   ],
   "source": [
    "# Check for duplicated orders\n",
    "#Use the duplicated() method to print duplicate rows from the orders dataframe.\n",
    "orders[orders.duplicated()]"
   ]
  },
  {
   "cell_type": "markdown",
   "id": "50672adc",
   "metadata": {
    "scrolled": true
   },
   "source": [
    "Code result:  There are duplicates in the orders DataFrame.  No need to drop duplicates because important information may be lost."
   ]
  },
  {
   "cell_type": "markdown",
   "id": "5d3355ce",
   "metadata": {},
   "source": [
    "<div class=\"alert alert-block alert-success\"> <b>Reviewer's comment</b> <a \n",
    "class=\"tocSkip\"></a>\n",
    "Right But normally we should drop duplicates To calculate the number of duplicates orders.duplicated().sum()</div>"
   ]
  },
  {
   "cell_type": "code",
   "execution_count": 6,
   "id": "edbd3f0a",
   "metadata": {},
   "outputs": [
    {
     "data": {
      "text/html": [
       "<div>\n",
       "<style scoped>\n",
       "    .dataframe tbody tr th:only-of-type {\n",
       "        vertical-align: middle;\n",
       "    }\n",
       "\n",
       "    .dataframe tbody tr th {\n",
       "        vertical-align: top;\n",
       "    }\n",
       "\n",
       "    .dataframe thead th {\n",
       "        text-align: right;\n",
       "    }\n",
       "</style>\n",
       "<table border=\"1\" class=\"dataframe\">\n",
       "  <thead>\n",
       "    <tr style=\"text-align: right;\">\n",
       "      <th></th>\n",
       "      <th>order_id</th>\n",
       "      <th>user_id</th>\n",
       "      <th>order_number</th>\n",
       "      <th>order_dow</th>\n",
       "      <th>order_hour_of_day</th>\n",
       "      <th>days_since_prior_order</th>\n",
       "    </tr>\n",
       "  </thead>\n",
       "  <tbody>\n",
       "    <tr>\n",
       "      <th>4838</th>\n",
       "      <td>2766110</td>\n",
       "      <td>162084</td>\n",
       "      <td>41</td>\n",
       "      <td>3</td>\n",
       "      <td>2</td>\n",
       "      <td>16.0</td>\n",
       "    </tr>\n",
       "    <tr>\n",
       "      <th>5156</th>\n",
       "      <td>2190225</td>\n",
       "      <td>138285</td>\n",
       "      <td>18</td>\n",
       "      <td>3</td>\n",
       "      <td>2</td>\n",
       "      <td>11.0</td>\n",
       "    </tr>\n",
       "    <tr>\n",
       "      <th>15506</th>\n",
       "      <td>553049</td>\n",
       "      <td>58599</td>\n",
       "      <td>13</td>\n",
       "      <td>3</td>\n",
       "      <td>2</td>\n",
       "      <td>7.0</td>\n",
       "    </tr>\n",
       "    <tr>\n",
       "      <th>18420</th>\n",
       "      <td>382357</td>\n",
       "      <td>120200</td>\n",
       "      <td>19</td>\n",
       "      <td>3</td>\n",
       "      <td>2</td>\n",
       "      <td>11.0</td>\n",
       "    </tr>\n",
       "    <tr>\n",
       "      <th>24691</th>\n",
       "      <td>690242</td>\n",
       "      <td>77357</td>\n",
       "      <td>2</td>\n",
       "      <td>3</td>\n",
       "      <td>2</td>\n",
       "      <td>9.0</td>\n",
       "    </tr>\n",
       "    <tr>\n",
       "      <th>...</th>\n",
       "      <td>...</td>\n",
       "      <td>...</td>\n",
       "      <td>...</td>\n",
       "      <td>...</td>\n",
       "      <td>...</td>\n",
       "      <td>...</td>\n",
       "    </tr>\n",
       "    <tr>\n",
       "      <th>457013</th>\n",
       "      <td>3384021</td>\n",
       "      <td>14881</td>\n",
       "      <td>6</td>\n",
       "      <td>3</td>\n",
       "      <td>2</td>\n",
       "      <td>30.0</td>\n",
       "    </tr>\n",
       "    <tr>\n",
       "      <th>458816</th>\n",
       "      <td>910166</td>\n",
       "      <td>164782</td>\n",
       "      <td>18</td>\n",
       "      <td>3</td>\n",
       "      <td>2</td>\n",
       "      <td>4.0</td>\n",
       "    </tr>\n",
       "    <tr>\n",
       "      <th>459635</th>\n",
       "      <td>1680532</td>\n",
       "      <td>106435</td>\n",
       "      <td>6</td>\n",
       "      <td>3</td>\n",
       "      <td>2</td>\n",
       "      <td>21.0</td>\n",
       "    </tr>\n",
       "    <tr>\n",
       "      <th>468324</th>\n",
       "      <td>222962</td>\n",
       "      <td>54979</td>\n",
       "      <td>59</td>\n",
       "      <td>3</td>\n",
       "      <td>2</td>\n",
       "      <td>3.0</td>\n",
       "    </tr>\n",
       "    <tr>\n",
       "      <th>477526</th>\n",
       "      <td>2592344</td>\n",
       "      <td>46860</td>\n",
       "      <td>38</td>\n",
       "      <td>3</td>\n",
       "      <td>2</td>\n",
       "      <td>3.0</td>\n",
       "    </tr>\n",
       "  </tbody>\n",
       "</table>\n",
       "<p>121 rows × 6 columns</p>\n",
       "</div>"
      ],
      "text/plain": [
       "        order_id  user_id  order_number  order_dow  order_hour_of_day  \\\n",
       "4838     2766110   162084            41          3                  2   \n",
       "5156     2190225   138285            18          3                  2   \n",
       "15506     553049    58599            13          3                  2   \n",
       "18420     382357   120200            19          3                  2   \n",
       "24691     690242    77357             2          3                  2   \n",
       "...          ...      ...           ...        ...                ...   \n",
       "457013   3384021    14881             6          3                  2   \n",
       "458816    910166   164782            18          3                  2   \n",
       "459635   1680532   106435             6          3                  2   \n",
       "468324    222962    54979            59          3                  2   \n",
       "477526   2592344    46860            38          3                  2   \n",
       "\n",
       "        days_since_prior_order  \n",
       "4838                      16.0  \n",
       "5156                      11.0  \n",
       "15506                      7.0  \n",
       "18420                     11.0  \n",
       "24691                      9.0  \n",
       "...                        ...  \n",
       "457013                    30.0  \n",
       "458816                     4.0  \n",
       "459635                    21.0  \n",
       "468324                     3.0  \n",
       "477526                     3.0  \n",
       "\n",
       "[121 rows x 6 columns]"
      ]
     },
     "execution_count": 6,
     "metadata": {},
     "output_type": "execute_result"
    }
   ],
   "source": [
    "# Check for all orders placed Wednesday at 2:00 AM \n",
    "\n",
    "#Filter orders dataframe with 2 conditional statements.  First conditional statement filter order_dow column so result \n",
    "#is = to 3 (3 = index of Wednseday).  Second conditional statement filters order_hour_of_day column so that result is \n",
    "#equal to 2 (2 = index for 2 am)\n",
    "orders[ (orders['order_dow'] == 3) & (orders['order_hour_of_day'] == 2)]"
   ]
  },
  {
   "cell_type": "markdown",
   "id": "786bbe23",
   "metadata": {},
   "source": [
    "<div class=\"alert alert-block alert-success\"> <b>Reviewer's comment</b> <a \n",
    "class=\"tocSkip\"></a>\n",
    "Perfect</div>"
   ]
  },
  {
   "cell_type": "code",
   "execution_count": 7,
   "id": "480563c7",
   "metadata": {},
   "outputs": [],
   "source": [
    "#Remove duplicate orders using drop_duplicates() and reset index using reset_index with drop=True as arguement.\n",
    "orders = orders.drop_duplicates().reset_index(drop=True)"
   ]
  },
  {
   "cell_type": "code",
   "execution_count": 8,
   "id": "0b2396a2",
   "metadata": {
    "scrolled": false
   },
   "outputs": [
    {
     "data": {
      "text/html": [
       "<div>\n",
       "<style scoped>\n",
       "    .dataframe tbody tr th:only-of-type {\n",
       "        vertical-align: middle;\n",
       "    }\n",
       "\n",
       "    .dataframe tbody tr th {\n",
       "        vertical-align: top;\n",
       "    }\n",
       "\n",
       "    .dataframe thead th {\n",
       "        text-align: right;\n",
       "    }\n",
       "</style>\n",
       "<table border=\"1\" class=\"dataframe\">\n",
       "  <thead>\n",
       "    <tr style=\"text-align: right;\">\n",
       "      <th></th>\n",
       "      <th>order_id</th>\n",
       "      <th>user_id</th>\n",
       "      <th>order_number</th>\n",
       "      <th>order_dow</th>\n",
       "      <th>order_hour_of_day</th>\n",
       "      <th>days_since_prior_order</th>\n",
       "    </tr>\n",
       "  </thead>\n",
       "  <tbody>\n",
       "  </tbody>\n",
       "</table>\n",
       "</div>"
      ],
      "text/plain": [
       "Empty DataFrame\n",
       "Columns: [order_id, user_id, order_number, order_dow, order_hour_of_day, days_since_prior_order]\n",
       "Index: []"
      ]
     },
     "execution_count": 8,
     "metadata": {},
     "output_type": "execute_result"
    }
   ],
   "source": [
    "#Double check for duplicate rows in order dataframe with duplicated() method.\n",
    "orders[orders.duplicated()]"
   ]
  },
  {
   "cell_type": "markdown",
   "id": "11ab7540",
   "metadata": {},
   "source": [
    "Code Result: No duplicates in orders dataframe noted. "
   ]
  },
  {
   "cell_type": "code",
   "execution_count": 9,
   "id": "f6113ef1",
   "metadata": {},
   "outputs": [
    {
     "data": {
      "text/html": [
       "<div>\n",
       "<style scoped>\n",
       "    .dataframe tbody tr th:only-of-type {\n",
       "        vertical-align: middle;\n",
       "    }\n",
       "\n",
       "    .dataframe tbody tr th {\n",
       "        vertical-align: top;\n",
       "    }\n",
       "\n",
       "    .dataframe thead th {\n",
       "        text-align: right;\n",
       "    }\n",
       "</style>\n",
       "<table border=\"1\" class=\"dataframe\">\n",
       "  <thead>\n",
       "    <tr style=\"text-align: right;\">\n",
       "      <th></th>\n",
       "      <th>order_id</th>\n",
       "      <th>user_id</th>\n",
       "      <th>order_number</th>\n",
       "      <th>order_dow</th>\n",
       "      <th>order_hour_of_day</th>\n",
       "      <th>days_since_prior_order</th>\n",
       "    </tr>\n",
       "  </thead>\n",
       "  <tbody>\n",
       "  </tbody>\n",
       "</table>\n",
       "</div>"
      ],
      "text/plain": [
       "Empty DataFrame\n",
       "Columns: [order_id, user_id, order_number, order_dow, order_hour_of_day, days_since_prior_order]\n",
       "Index: []"
      ]
     },
     "execution_count": 9,
     "metadata": {},
     "output_type": "execute_result"
    }
   ],
   "source": [
    "# Double check for duplicate order IDs only using duplicated() on orders dataframe\n",
    "\n",
    "#Use a filter for orders dataframe and check for duplicates by applying \n",
    "#duplicated() method to orders filter and use subset= argument to access to 'order_id' columns.\n",
    "orders[orders.duplicated(subset='order_id')]"
   ]
  },
  {
   "cell_type": "markdown",
   "id": "9acbef63",
   "metadata": {},
   "source": [
    "Code Result: No duplicates noted in the order_id column of the orders dataframe."
   ]
  },
  {
   "cell_type": "markdown",
   "id": "5e8905ae",
   "metadata": {},
   "source": [
    "<div class=\"alert alert-block alert-success\"> <b>Reviewer's comment</b> <a \n",
    "class=\"tocSkip\"></a>\n",
    "Super data preprocessing</div>"
   ]
  },
  {
   "cell_type": "markdown",
   "id": "45e6bc46",
   "metadata": {},
   "source": [
    "### `products` data frame"
   ]
  },
  {
   "cell_type": "code",
   "execution_count": 10,
   "id": "5f526b5b-8175-46fa-a0fd-441767d50e64",
   "metadata": {},
   "outputs": [
    {
     "data": {
      "text/html": [
       "<div>\n",
       "<style scoped>\n",
       "    .dataframe tbody tr th:only-of-type {\n",
       "        vertical-align: middle;\n",
       "    }\n",
       "\n",
       "    .dataframe tbody tr th {\n",
       "        vertical-align: top;\n",
       "    }\n",
       "\n",
       "    .dataframe thead th {\n",
       "        text-align: right;\n",
       "    }\n",
       "</style>\n",
       "<table border=\"1\" class=\"dataframe\">\n",
       "  <thead>\n",
       "    <tr style=\"text-align: right;\">\n",
       "      <th></th>\n",
       "      <th>product_id</th>\n",
       "      <th>product_name</th>\n",
       "      <th>aisle_id</th>\n",
       "      <th>department_id</th>\n",
       "    </tr>\n",
       "  </thead>\n",
       "  <tbody>\n",
       "  </tbody>\n",
       "</table>\n",
       "</div>"
      ],
      "text/plain": [
       "Empty DataFrame\n",
       "Columns: [product_id, product_name, aisle_id, department_id]\n",
       "Index: []"
      ]
     },
     "execution_count": 10,
     "metadata": {},
     "output_type": "execute_result"
    }
   ],
   "source": [
    "# Check for fully duplicate rows\n",
    "\n",
    "#Filter products dataframe and use the duplicated() \n",
    "#method on products dataframe filter in order to check for duplicate rows.\n",
    "products[products.duplicated()]"
   ]
  },
  {
   "cell_type": "markdown",
   "id": "844e653b",
   "metadata": {},
   "source": [
    "Code Result: No duplicate rows noted in the products dataframe."
   ]
  },
  {
   "cell_type": "code",
   "execution_count": 11,
   "id": "88daa4f4",
   "metadata": {},
   "outputs": [
    {
     "data": {
      "text/html": [
       "<div>\n",
       "<style scoped>\n",
       "    .dataframe tbody tr th:only-of-type {\n",
       "        vertical-align: middle;\n",
       "    }\n",
       "\n",
       "    .dataframe tbody tr th {\n",
       "        vertical-align: top;\n",
       "    }\n",
       "\n",
       "    .dataframe thead th {\n",
       "        text-align: right;\n",
       "    }\n",
       "</style>\n",
       "<table border=\"1\" class=\"dataframe\">\n",
       "  <thead>\n",
       "    <tr style=\"text-align: right;\">\n",
       "      <th></th>\n",
       "      <th>product_id</th>\n",
       "      <th>product_name</th>\n",
       "      <th>aisle_id</th>\n",
       "      <th>department_id</th>\n",
       "    </tr>\n",
       "  </thead>\n",
       "  <tbody>\n",
       "  </tbody>\n",
       "</table>\n",
       "</div>"
      ],
      "text/plain": [
       "Empty DataFrame\n",
       "Columns: [product_id, product_name, aisle_id, department_id]\n",
       "Index: []"
      ]
     },
     "execution_count": 11,
     "metadata": {},
     "output_type": "execute_result"
    }
   ],
   "source": [
    "# Check for just duplicate product IDs\n",
    "\n",
    "#Filter products dataframe and use duplicated() method \n",
    "#on products dataframe filter and add subset= parameter in order to access product_id column.\n",
    "products[products.duplicated(subset='product_id')]"
   ]
  },
  {
   "cell_type": "markdown",
   "id": "cb8faafd",
   "metadata": {},
   "source": [
    "Code Result: No duplicates noted in product_id column of products dataframe."
   ]
  },
  {
   "cell_type": "code",
   "execution_count": 12,
   "id": "c773f0bf",
   "metadata": {},
   "outputs": [
    {
     "data": {
      "text/html": [
       "<div>\n",
       "<style scoped>\n",
       "    .dataframe tbody tr th:only-of-type {\n",
       "        vertical-align: middle;\n",
       "    }\n",
       "\n",
       "    .dataframe tbody tr th {\n",
       "        vertical-align: top;\n",
       "    }\n",
       "\n",
       "    .dataframe thead th {\n",
       "        text-align: right;\n",
       "    }\n",
       "</style>\n",
       "<table border=\"1\" class=\"dataframe\">\n",
       "  <thead>\n",
       "    <tr style=\"text-align: right;\">\n",
       "      <th></th>\n",
       "      <th>product_id</th>\n",
       "      <th>product_name</th>\n",
       "      <th>aisle_id</th>\n",
       "      <th>department_id</th>\n",
       "    </tr>\n",
       "  </thead>\n",
       "  <tbody>\n",
       "    <tr>\n",
       "      <th>71</th>\n",
       "      <td>72</td>\n",
       "      <td>NaN</td>\n",
       "      <td>100</td>\n",
       "      <td>21</td>\n",
       "    </tr>\n",
       "    <tr>\n",
       "      <th>109</th>\n",
       "      <td>110</td>\n",
       "      <td>NaN</td>\n",
       "      <td>100</td>\n",
       "      <td>21</td>\n",
       "    </tr>\n",
       "    <tr>\n",
       "      <th>296</th>\n",
       "      <td>297</td>\n",
       "      <td>NaN</td>\n",
       "      <td>100</td>\n",
       "      <td>21</td>\n",
       "    </tr>\n",
       "    <tr>\n",
       "      <th>416</th>\n",
       "      <td>417</td>\n",
       "      <td>NaN</td>\n",
       "      <td>100</td>\n",
       "      <td>21</td>\n",
       "    </tr>\n",
       "    <tr>\n",
       "      <th>436</th>\n",
       "      <td>437</td>\n",
       "      <td>NaN</td>\n",
       "      <td>100</td>\n",
       "      <td>21</td>\n",
       "    </tr>\n",
       "    <tr>\n",
       "      <th>...</th>\n",
       "      <td>...</td>\n",
       "      <td>...</td>\n",
       "      <td>...</td>\n",
       "      <td>...</td>\n",
       "    </tr>\n",
       "    <tr>\n",
       "      <th>49689</th>\n",
       "      <td>49690</td>\n",
       "      <td>HIGH PERFORMANCE ENERGY DRINK</td>\n",
       "      <td>64</td>\n",
       "      <td>7</td>\n",
       "    </tr>\n",
       "    <tr>\n",
       "      <th>49690</th>\n",
       "      <td>49691</td>\n",
       "      <td>ORIGINAL PANCAKE &amp; WAFFLE MIX</td>\n",
       "      <td>130</td>\n",
       "      <td>14</td>\n",
       "    </tr>\n",
       "    <tr>\n",
       "      <th>49691</th>\n",
       "      <td>49692</td>\n",
       "      <td>ORGANIC INSTANT OATMEAL LIGHT MAPLE BROWN SUGAR</td>\n",
       "      <td>130</td>\n",
       "      <td>14</td>\n",
       "    </tr>\n",
       "    <tr>\n",
       "      <th>49692</th>\n",
       "      <td>49693</td>\n",
       "      <td>SPRING WATER BODY WASH</td>\n",
       "      <td>127</td>\n",
       "      <td>11</td>\n",
       "    </tr>\n",
       "    <tr>\n",
       "      <th>49693</th>\n",
       "      <td>49694</td>\n",
       "      <td>BURRITO- STEAK &amp; CHEESE</td>\n",
       "      <td>38</td>\n",
       "      <td>1</td>\n",
       "    </tr>\n",
       "  </tbody>\n",
       "</table>\n",
       "<p>1361 rows × 4 columns</p>\n",
       "</div>"
      ],
      "text/plain": [
       "       product_id                                     product_name  aisle_id  \\\n",
       "71             72                                              NaN       100   \n",
       "109           110                                              NaN       100   \n",
       "296           297                                              NaN       100   \n",
       "416           417                                              NaN       100   \n",
       "436           437                                              NaN       100   \n",
       "...           ...                                              ...       ...   \n",
       "49689       49690                    HIGH PERFORMANCE ENERGY DRINK        64   \n",
       "49690       49691                    ORIGINAL PANCAKE & WAFFLE MIX       130   \n",
       "49691       49692  ORGANIC INSTANT OATMEAL LIGHT MAPLE BROWN SUGAR       130   \n",
       "49692       49693                           SPRING WATER BODY WASH       127   \n",
       "49693       49694                          BURRITO- STEAK & CHEESE        38   \n",
       "\n",
       "       department_id  \n",
       "71                21  \n",
       "109               21  \n",
       "296               21  \n",
       "416               21  \n",
       "436               21  \n",
       "...              ...  \n",
       "49689              7  \n",
       "49690             14  \n",
       "49691             14  \n",
       "49692             11  \n",
       "49693              1  \n",
       "\n",
       "[1361 rows x 4 columns]"
      ]
     },
     "execution_count": 12,
     "metadata": {},
     "output_type": "execute_result"
    }
   ],
   "source": [
    "# Check for just duplicate product names (convert names to lowercase to compare better)\n",
    "\n",
    "#Filter products dataframe to check for duplicates in product_name using duplicated() function.  \n",
    "#Before adding duplicated() to filter, use str.lower() in order to organize duplicates better.\n",
    "products[products['product_name'].str.lower().duplicated()]"
   ]
  },
  {
   "cell_type": "markdown",
   "id": "182f6fe9",
   "metadata": {},
   "source": [
    "Code Result: There are duplicate rows noted in product_name column of products dataframe."
   ]
  },
  {
   "cell_type": "markdown",
   "id": "eb13a968",
   "metadata": {},
   "source": [
    "<div class=\"alert alert-block alert-success\"> <b>Reviewer's comment</b> <a \n",
    "class=\"tocSkip\"></a>\n",
    "You are right"
   ]
  },
  {
   "cell_type": "code",
   "execution_count": 13,
   "id": "01efd02e",
   "metadata": {},
   "outputs": [
    {
     "data": {
      "text/html": [
       "<div>\n",
       "<style scoped>\n",
       "    .dataframe tbody tr th:only-of-type {\n",
       "        vertical-align: middle;\n",
       "    }\n",
       "\n",
       "    .dataframe tbody tr th {\n",
       "        vertical-align: top;\n",
       "    }\n",
       "\n",
       "    .dataframe thead th {\n",
       "        text-align: right;\n",
       "    }\n",
       "</style>\n",
       "<table border=\"1\" class=\"dataframe\">\n",
       "  <thead>\n",
       "    <tr style=\"text-align: right;\">\n",
       "      <th></th>\n",
       "      <th>product_id</th>\n",
       "      <th>product_name</th>\n",
       "      <th>aisle_id</th>\n",
       "      <th>department_id</th>\n",
       "    </tr>\n",
       "  </thead>\n",
       "  <tbody>\n",
       "    <tr>\n",
       "      <th>2058</th>\n",
       "      <td>2059</td>\n",
       "      <td>Biotin 1000 Mcg</td>\n",
       "      <td>47</td>\n",
       "      <td>11</td>\n",
       "    </tr>\n",
       "    <tr>\n",
       "      <th>5455</th>\n",
       "      <td>5456</td>\n",
       "      <td>Green Tea With Ginseng and Honey</td>\n",
       "      <td>96</td>\n",
       "      <td>20</td>\n",
       "    </tr>\n",
       "    <tr>\n",
       "      <th>5558</th>\n",
       "      <td>5559</td>\n",
       "      <td>Cream Of Mushroom Soup</td>\n",
       "      <td>69</td>\n",
       "      <td>15</td>\n",
       "    </tr>\n",
       "    <tr>\n",
       "      <th>7558</th>\n",
       "      <td>7559</td>\n",
       "      <td>Cinnamon Rolls with Icing</td>\n",
       "      <td>105</td>\n",
       "      <td>13</td>\n",
       "    </tr>\n",
       "    <tr>\n",
       "      <th>9037</th>\n",
       "      <td>9038</td>\n",
       "      <td>American Cheese slices</td>\n",
       "      <td>21</td>\n",
       "      <td>16</td>\n",
       "    </tr>\n",
       "    <tr>\n",
       "      <th>...</th>\n",
       "      <td>...</td>\n",
       "      <td>...</td>\n",
       "      <td>...</td>\n",
       "      <td>...</td>\n",
       "    </tr>\n",
       "    <tr>\n",
       "      <th>49689</th>\n",
       "      <td>49690</td>\n",
       "      <td>HIGH PERFORMANCE ENERGY DRINK</td>\n",
       "      <td>64</td>\n",
       "      <td>7</td>\n",
       "    </tr>\n",
       "    <tr>\n",
       "      <th>49690</th>\n",
       "      <td>49691</td>\n",
       "      <td>ORIGINAL PANCAKE &amp; WAFFLE MIX</td>\n",
       "      <td>130</td>\n",
       "      <td>14</td>\n",
       "    </tr>\n",
       "    <tr>\n",
       "      <th>49691</th>\n",
       "      <td>49692</td>\n",
       "      <td>ORGANIC INSTANT OATMEAL LIGHT MAPLE BROWN SUGAR</td>\n",
       "      <td>130</td>\n",
       "      <td>14</td>\n",
       "    </tr>\n",
       "    <tr>\n",
       "      <th>49692</th>\n",
       "      <td>49693</td>\n",
       "      <td>SPRING WATER BODY WASH</td>\n",
       "      <td>127</td>\n",
       "      <td>11</td>\n",
       "    </tr>\n",
       "    <tr>\n",
       "      <th>49693</th>\n",
       "      <td>49694</td>\n",
       "      <td>BURRITO- STEAK &amp; CHEESE</td>\n",
       "      <td>38</td>\n",
       "      <td>1</td>\n",
       "    </tr>\n",
       "  </tbody>\n",
       "</table>\n",
       "<p>104 rows × 4 columns</p>\n",
       "</div>"
      ],
      "text/plain": [
       "       product_id                                     product_name  aisle_id  \\\n",
       "2058         2059                                  Biotin 1000 Mcg        47   \n",
       "5455         5456                 Green Tea With Ginseng and Honey        96   \n",
       "5558         5559                           Cream Of Mushroom Soup        69   \n",
       "7558         7559                        Cinnamon Rolls with Icing       105   \n",
       "9037         9038                           American Cheese slices        21   \n",
       "...           ...                                              ...       ...   \n",
       "49689       49690                    HIGH PERFORMANCE ENERGY DRINK        64   \n",
       "49690       49691                    ORIGINAL PANCAKE & WAFFLE MIX       130   \n",
       "49691       49692  ORGANIC INSTANT OATMEAL LIGHT MAPLE BROWN SUGAR       130   \n",
       "49692       49693                           SPRING WATER BODY WASH       127   \n",
       "49693       49694                          BURRITO- STEAK & CHEESE        38   \n",
       "\n",
       "       department_id  \n",
       "2058              11  \n",
       "5455              20  \n",
       "5558              15  \n",
       "7558              13  \n",
       "9037              16  \n",
       "...              ...  \n",
       "49689              7  \n",
       "49690             14  \n",
       "49691             14  \n",
       "49692             11  \n",
       "49693              1  \n",
       "\n",
       "[104 rows x 4 columns]"
      ]
     },
     "execution_count": 13,
     "metadata": {},
     "output_type": "execute_result"
    }
   ],
   "source": [
    "# Check for duplicate product names that aren't missing\n",
    "products[(products['product_name'].str.lower().duplicated())& ~(products['product_name'].isna())] "
   ]
  },
  {
   "cell_type": "markdown",
   "id": "9da8d293",
   "metadata": {},
   "source": [
    "<div class=\"alert alert-block alert-success\"> <b>Reviewer's comment</b> <a \n",
    "class=\"tocSkip\"></a>\n",
    "Perfect</div>"
   ]
  },
  {
   "cell_type": "markdown",
   "id": "60f30db1",
   "metadata": {},
   "source": [
    "### `departments` data frame"
   ]
  },
  {
   "cell_type": "code",
   "execution_count": 14,
   "id": "fb410ad4-0fbf-4b80-bb09-23fdea79afe3",
   "metadata": {},
   "outputs": [
    {
     "data": {
      "text/html": [
       "<div>\n",
       "<style scoped>\n",
       "    .dataframe tbody tr th:only-of-type {\n",
       "        vertical-align: middle;\n",
       "    }\n",
       "\n",
       "    .dataframe tbody tr th {\n",
       "        vertical-align: top;\n",
       "    }\n",
       "\n",
       "    .dataframe thead th {\n",
       "        text-align: right;\n",
       "    }\n",
       "</style>\n",
       "<table border=\"1\" class=\"dataframe\">\n",
       "  <thead>\n",
       "    <tr style=\"text-align: right;\">\n",
       "      <th></th>\n",
       "      <th>department_id</th>\n",
       "      <th>department</th>\n",
       "    </tr>\n",
       "  </thead>\n",
       "  <tbody>\n",
       "  </tbody>\n",
       "</table>\n",
       "</div>"
      ],
      "text/plain": [
       "Empty DataFrame\n",
       "Columns: [department_id, department]\n",
       "Index: []"
      ]
     },
     "execution_count": 14,
     "metadata": {},
     "output_type": "execute_result"
    }
   ],
   "source": [
    "#check for duplicate rows in departments dataframe\n",
    "\n",
    "#Filter departments dataframe and use duplicated() method on departments dataframe filter.\n",
    "departments[departments.duplicated()]"
   ]
  },
  {
   "cell_type": "markdown",
   "id": "997344ed",
   "metadata": {},
   "source": [
    "Code Result: There are no duplicate values noted on departments dataframe."
   ]
  },
  {
   "cell_type": "markdown",
   "id": "bd30d78e",
   "metadata": {},
   "source": [
    "<div class=\"alert alert-block alert-success\"> <b>Reviewer's comment</b> <a \n",
    "class=\"tocSkip\"></a>\n",
    "Right</div>"
   ]
  },
  {
   "cell_type": "markdown",
   "id": "889349c1",
   "metadata": {},
   "source": [
    "### `aisles` data frame"
   ]
  },
  {
   "cell_type": "code",
   "execution_count": 15,
   "id": "9da89fb9-4679-40f5-ad0d-c34df753a3f8",
   "metadata": {},
   "outputs": [
    {
     "data": {
      "text/html": [
       "<div>\n",
       "<style scoped>\n",
       "    .dataframe tbody tr th:only-of-type {\n",
       "        vertical-align: middle;\n",
       "    }\n",
       "\n",
       "    .dataframe tbody tr th {\n",
       "        vertical-align: top;\n",
       "    }\n",
       "\n",
       "    .dataframe thead th {\n",
       "        text-align: right;\n",
       "    }\n",
       "</style>\n",
       "<table border=\"1\" class=\"dataframe\">\n",
       "  <thead>\n",
       "    <tr style=\"text-align: right;\">\n",
       "      <th></th>\n",
       "      <th>aisle_id</th>\n",
       "      <th>aisle</th>\n",
       "    </tr>\n",
       "  </thead>\n",
       "  <tbody>\n",
       "  </tbody>\n",
       "</table>\n",
       "</div>"
      ],
      "text/plain": [
       "Empty DataFrame\n",
       "Columns: [aisle_id, aisle]\n",
       "Index: []"
      ]
     },
     "execution_count": 15,
     "metadata": {},
     "output_type": "execute_result"
    }
   ],
   "source": [
    "#check for duplicate rows in aisles dataframe.\n",
    "\n",
    "#Filter aisles dataframe and use duplicated() method on aisles dataframe filter.\n",
    "aisles[aisles.duplicated()]"
   ]
  },
  {
   "cell_type": "markdown",
   "id": "dc9ae637",
   "metadata": {},
   "source": [
    "Code Result: No duplicate rows noted in aisles dataframe."
   ]
  },
  {
   "cell_type": "markdown",
   "id": "ac63826f",
   "metadata": {},
   "source": []
  },
  {
   "cell_type": "markdown",
   "id": "274cd06a",
   "metadata": {},
   "source": [
    "### `order_products` data frame"
   ]
  },
  {
   "cell_type": "code",
   "execution_count": 16,
   "id": "52326689-84a8-4b8f-a881-7c68780f62c9",
   "metadata": {},
   "outputs": [
    {
     "data": {
      "text/html": [
       "<div>\n",
       "<style scoped>\n",
       "    .dataframe tbody tr th:only-of-type {\n",
       "        vertical-align: middle;\n",
       "    }\n",
       "\n",
       "    .dataframe tbody tr th {\n",
       "        vertical-align: top;\n",
       "    }\n",
       "\n",
       "    .dataframe thead th {\n",
       "        text-align: right;\n",
       "    }\n",
       "</style>\n",
       "<table border=\"1\" class=\"dataframe\">\n",
       "  <thead>\n",
       "    <tr style=\"text-align: right;\">\n",
       "      <th></th>\n",
       "      <th>order_id</th>\n",
       "      <th>product_id</th>\n",
       "      <th>add_to_cart_order</th>\n",
       "      <th>reordered</th>\n",
       "    </tr>\n",
       "  </thead>\n",
       "  <tbody>\n",
       "  </tbody>\n",
       "</table>\n",
       "</div>"
      ],
      "text/plain": [
       "Empty DataFrame\n",
       "Columns: [order_id, product_id, add_to_cart_order, reordered]\n",
       "Index: []"
      ]
     },
     "execution_count": 16,
     "metadata": {},
     "output_type": "execute_result"
    }
   ],
   "source": [
    "# Check for fullly duplicate rows\n",
    "\n",
    "#Filter order_products dataframe and use duplicated() method on order products filter.\n",
    "order_products[order_products.duplicated()]"
   ]
  },
  {
   "cell_type": "markdown",
   "id": "2420b283",
   "metadata": {},
   "source": [
    "Code Result: There are no duplicates noted in order_products dataframe."
   ]
  },
  {
   "cell_type": "code",
   "execution_count": 17,
   "id": "7b861391",
   "metadata": {},
   "outputs": [
    {
     "data": {
      "text/html": [
       "<div>\n",
       "<style scoped>\n",
       "    .dataframe tbody tr th:only-of-type {\n",
       "        vertical-align: middle;\n",
       "    }\n",
       "\n",
       "    .dataframe tbody tr th {\n",
       "        vertical-align: top;\n",
       "    }\n",
       "\n",
       "    .dataframe thead th {\n",
       "        text-align: right;\n",
       "    }\n",
       "</style>\n",
       "<table border=\"1\" class=\"dataframe\">\n",
       "  <thead>\n",
       "    <tr style=\"text-align: right;\">\n",
       "      <th></th>\n",
       "      <th>order_id</th>\n",
       "      <th>product_id</th>\n",
       "      <th>add_to_cart_order</th>\n",
       "      <th>reordered</th>\n",
       "    </tr>\n",
       "  </thead>\n",
       "  <tbody>\n",
       "  </tbody>\n",
       "</table>\n",
       "</div>"
      ],
      "text/plain": [
       "Empty DataFrame\n",
       "Columns: [order_id, product_id, add_to_cart_order, reordered]\n",
       "Index: []"
      ]
     },
     "execution_count": 17,
     "metadata": {},
     "output_type": "execute_result"
    }
   ],
   "source": [
    "# Double check for any other tricky duplicates\n",
    "\n",
    "#Filter order_products dataframe and use duplicated () method on order products filter.  \n",
    "#Add subset= arguement to duplicated in order to access the order_id and product_id columns.  order_id and\n",
    "#product_id columns are used because they absolutely are not allowed to have duplicates because they represent\n",
    "#a single customer purchase and a set point in time.\n",
    "order_products[order_products.duplicated(subset=['order_id','product_id'])]"
   ]
  },
  {
   "cell_type": "markdown",
   "id": "6e60a46b",
   "metadata": {},
   "source": [
    "Code Result: No duplicates noted in order_id and product_id columns of order_products."
   ]
  },
  {
   "cell_type": "markdown",
   "id": "0b890492",
   "metadata": {},
   "source": [
    "<div class=\"alert alert-block alert-success\"> <b>Reviewer's comment</b> <a \n",
    "class=\"tocSkip\"></a>\n",
    "Correct</div>"
   ]
  },
  {
   "cell_type": "markdown",
   "id": "1e46de76",
   "metadata": {},
   "source": [
    "## Find and remove missing values\n"
   ]
  },
  {
   "cell_type": "markdown",
   "id": "c0aebd78",
   "metadata": {},
   "source": [
    "### `products` data frame"
   ]
  },
  {
   "cell_type": "code",
   "execution_count": 18,
   "id": "e96167bc",
   "metadata": {},
   "outputs": [
    {
     "data": {
      "text/html": [
       "<div>\n",
       "<style scoped>\n",
       "    .dataframe tbody tr th:only-of-type {\n",
       "        vertical-align: middle;\n",
       "    }\n",
       "\n",
       "    .dataframe tbody tr th {\n",
       "        vertical-align: top;\n",
       "    }\n",
       "\n",
       "    .dataframe thead th {\n",
       "        text-align: right;\n",
       "    }\n",
       "</style>\n",
       "<table border=\"1\" class=\"dataframe\">\n",
       "  <thead>\n",
       "    <tr style=\"text-align: right;\">\n",
       "      <th></th>\n",
       "      <th>product_id</th>\n",
       "      <th>product_name</th>\n",
       "      <th>aisle_id</th>\n",
       "      <th>department_id</th>\n",
       "    </tr>\n",
       "  </thead>\n",
       "  <tbody>\n",
       "  </tbody>\n",
       "</table>\n",
       "</div>"
      ],
      "text/plain": [
       "Empty DataFrame\n",
       "Columns: [product_id, product_name, aisle_id, department_id]\n",
       "Index: []"
      ]
     },
     "execution_count": 18,
     "metadata": {},
     "output_type": "execute_result"
    }
   ],
   "source": [
    "# Are all of the missing product names associated with aisle ID 100? Yes all of them are associated with 100. #phrase better\n",
    "\n",
    "#Filter products data frame using 1 filtering condition and check for missing values with second condition.  \n",
    "#First, filter aisle_id column from products dataframe and use conditional filtering to display aisle_id result \n",
    "#not equal to 100 by using (!= 100). This type of filtering is used in order check for missing values in other \n",
    "#aisle_id aisles excluding aise_id 100.  Second line of filtering checks for missing values in the product_name section \n",
    "#of the products dataframe.\n",
    "products[(products['aisle_id'] != 100) & (products['product_name'].isna())]"
   ]
  },
  {
   "cell_type": "markdown",
   "id": "ef3f39b2",
   "metadata": {},
   "source": [
    "Code Result:  There are no missing values noted in the product_name section outside of aisle_id 100.  Thus, concluding that all of the missing product names are in aisle_id 100."
   ]
  },
  {
   "cell_type": "code",
   "execution_count": 19,
   "id": "8fd0a541",
   "metadata": {},
   "outputs": [
    {
     "data": {
      "text/html": [
       "<div>\n",
       "<style scoped>\n",
       "    .dataframe tbody tr th:only-of-type {\n",
       "        vertical-align: middle;\n",
       "    }\n",
       "\n",
       "    .dataframe tbody tr th {\n",
       "        vertical-align: top;\n",
       "    }\n",
       "\n",
       "    .dataframe thead th {\n",
       "        text-align: right;\n",
       "    }\n",
       "</style>\n",
       "<table border=\"1\" class=\"dataframe\">\n",
       "  <thead>\n",
       "    <tr style=\"text-align: right;\">\n",
       "      <th></th>\n",
       "      <th>product_id</th>\n",
       "      <th>product_name</th>\n",
       "      <th>aisle_id</th>\n",
       "      <th>department_id</th>\n",
       "    </tr>\n",
       "  </thead>\n",
       "  <tbody>\n",
       "  </tbody>\n",
       "</table>\n",
       "</div>"
      ],
      "text/plain": [
       "Empty DataFrame\n",
       "Columns: [product_id, product_name, aisle_id, department_id]\n",
       "Index: []"
      ]
     },
     "execution_count": 19,
     "metadata": {},
     "output_type": "execute_result"
    }
   ],
   "source": [
    "# Are all of the missing product names associated with department ID 21?\n",
    "\n",
    "#Filter products data frame using 1 filtering condition and check for missing values with second condition.   \n",
    "#First part of filtering code checks for missing values in the product_name section of the products dataframe. \n",
    "#Second part of filtering code checks the department_id column from products dataframe and uses conditional filtering to \n",
    "#display department_id result not equal to 21 by using (!= 21). This type of filtering is used in order check for missing \n",
    "#values in other department_id's  excluding deparment_id 21. \n",
    "products[(products['product_name'].isna()) & (products['department_id'] != 21)]"
   ]
  },
  {
   "cell_type": "markdown",
   "id": "a63043c1",
   "metadata": {},
   "source": [
    "Code Result:  There are no missing values noted in the product_name section outside of department_id 21.  Thus, concluding that all of the missing products are in deparment_id 21."
   ]
  },
  {
   "cell_type": "code",
   "execution_count": 20,
   "id": "325c3464",
   "metadata": {},
   "outputs": [
    {
     "data": {
      "text/html": [
       "<div>\n",
       "<style scoped>\n",
       "    .dataframe tbody tr th:only-of-type {\n",
       "        vertical-align: middle;\n",
       "    }\n",
       "\n",
       "    .dataframe tbody tr th {\n",
       "        vertical-align: top;\n",
       "    }\n",
       "\n",
       "    .dataframe thead th {\n",
       "        text-align: right;\n",
       "    }\n",
       "</style>\n",
       "<table border=\"1\" class=\"dataframe\">\n",
       "  <thead>\n",
       "    <tr style=\"text-align: right;\">\n",
       "      <th></th>\n",
       "      <th>aisle_id</th>\n",
       "      <th>aisle</th>\n",
       "    </tr>\n",
       "  </thead>\n",
       "  <tbody>\n",
       "    <tr>\n",
       "      <th>99</th>\n",
       "      <td>100</td>\n",
       "      <td>missing</td>\n",
       "    </tr>\n",
       "  </tbody>\n",
       "</table>\n",
       "</div>"
      ],
      "text/plain": [
       "    aisle_id    aisle\n",
       "99       100  missing"
      ]
     },
     "metadata": {},
     "output_type": "display_data"
    },
    {
     "data": {
      "text/html": [
       "<div>\n",
       "<style scoped>\n",
       "    .dataframe tbody tr th:only-of-type {\n",
       "        vertical-align: middle;\n",
       "    }\n",
       "\n",
       "    .dataframe tbody tr th {\n",
       "        vertical-align: top;\n",
       "    }\n",
       "\n",
       "    .dataframe thead th {\n",
       "        text-align: right;\n",
       "    }\n",
       "</style>\n",
       "<table border=\"1\" class=\"dataframe\">\n",
       "  <thead>\n",
       "    <tr style=\"text-align: right;\">\n",
       "      <th></th>\n",
       "      <th>department_id</th>\n",
       "      <th>department</th>\n",
       "    </tr>\n",
       "  </thead>\n",
       "  <tbody>\n",
       "    <tr>\n",
       "      <th>20</th>\n",
       "      <td>21</td>\n",
       "      <td>missing</td>\n",
       "    </tr>\n",
       "  </tbody>\n",
       "</table>\n",
       "</div>"
      ],
      "text/plain": [
       "    department_id department\n",
       "20             21    missing"
      ]
     },
     "execution_count": 20,
     "metadata": {},
     "output_type": "execute_result"
    }
   ],
   "source": [
    "# What is this ailse and department?\n",
    "\n",
    "#Identify the missing values in aisle_id 100 by filtering the \n",
    "#aisle_id column from the aisles dataframe and using conditional indexing by adding (== 100)\n",
    "display(aisles[aisles[\"aisle_id\"] == 100])\n",
    "\n",
    "#dentify missing values in department_id 21 by filtering the department_id \n",
    "#column from the departments dataframe and use conditional indexing by adding (== 21). \n",
    "departments[departments[\"department_id\"] == 21]"
   ]
  },
  {
   "cell_type": "markdown",
   "id": "1b28f3ef",
   "metadata": {},
   "source": [
    "Code Result:  There are 99 missing values noted in the aisle_id column of the aisles dataframe and there are 20 missing values noted in the department_id column of the departments dataframe."
   ]
  },
  {
   "cell_type": "code",
   "execution_count": 21,
   "id": "6b295120",
   "metadata": {},
   "outputs": [],
   "source": [
    "# Fill missing product names with 'Unknown'\n",
    "\n",
    "#Use fillna() method on the product_name column of the products dataframe.  Add 'Uknown' as an arguement to fillna() \n",
    "#to fill missing values and  add inplace=True as an arguement to fillna() to save result.\n",
    "products['product_name'].fillna('Unknown', inplace=True)"
   ]
  },
  {
   "cell_type": "code",
   "execution_count": 22,
   "id": "122df855",
   "metadata": {},
   "outputs": [
    {
     "data": {
      "text/html": [
       "<div>\n",
       "<style scoped>\n",
       "    .dataframe tbody tr th:only-of-type {\n",
       "        vertical-align: middle;\n",
       "    }\n",
       "\n",
       "    .dataframe tbody tr th {\n",
       "        vertical-align: top;\n",
       "    }\n",
       "\n",
       "    .dataframe thead th {\n",
       "        text-align: right;\n",
       "    }\n",
       "</style>\n",
       "<table border=\"1\" class=\"dataframe\">\n",
       "  <thead>\n",
       "    <tr style=\"text-align: right;\">\n",
       "      <th></th>\n",
       "      <th>product_id</th>\n",
       "      <th>product_name</th>\n",
       "      <th>aisle_id</th>\n",
       "      <th>department_id</th>\n",
       "    </tr>\n",
       "  </thead>\n",
       "  <tbody>\n",
       "  </tbody>\n",
       "</table>\n",
       "</div>"
      ],
      "text/plain": [
       "Empty DataFrame\n",
       "Columns: [product_id, product_name, aisle_id, department_id]\n",
       "Index: []"
      ]
     },
     "execution_count": 22,
     "metadata": {},
     "output_type": "execute_result"
    }
   ],
   "source": [
    "#check for missing values in the product name column of the products dataframe\n",
    "\n",
    "#Filter products dataframe and add isna() \n",
    "#function to the product_name column of the products dataframe in order to display missing values.\n",
    "products[products['product_name'].isna()]"
   ]
  },
  {
   "cell_type": "markdown",
   "id": "a8a541c1",
   "metadata": {},
   "source": [
    "Code Result:  There are no missing values noted in the product_name column of the products dataframe."
   ]
  },
  {
   "cell_type": "markdown",
   "id": "fc70e5ad",
   "metadata": {},
   "source": [
    "<div class=\"alert alert-block alert-success\"> <b>Reviewer's comment</b> <a \n",
    "class=\"tocSkip\"></a>\n",
    "Great You also can use this construction to be sure that all missing values are for aisle = 100 and department = 21\n",
    "    \n",
    "   products[(products['aisle_id'] == 100) | (products['department_id'] == 21)]['product_name'].unique()\n",
    "\n",
    "\n",
    "</div>"
   ]
  },
  {
   "cell_type": "markdown",
   "id": "7eb45c86",
   "metadata": {},
   "source": [
    "### `orders` data frame"
   ]
  },
  {
   "cell_type": "code",
   "execution_count": 23,
   "id": "166e5a86",
   "metadata": {
    "scrolled": true
   },
   "outputs": [
    {
     "data": {
      "text/html": [
       "<div>\n",
       "<style scoped>\n",
       "    .dataframe tbody tr th:only-of-type {\n",
       "        vertical-align: middle;\n",
       "    }\n",
       "\n",
       "    .dataframe tbody tr th {\n",
       "        vertical-align: top;\n",
       "    }\n",
       "\n",
       "    .dataframe thead th {\n",
       "        text-align: right;\n",
       "    }\n",
       "</style>\n",
       "<table border=\"1\" class=\"dataframe\">\n",
       "  <thead>\n",
       "    <tr style=\"text-align: right;\">\n",
       "      <th></th>\n",
       "      <th>order_id</th>\n",
       "      <th>user_id</th>\n",
       "      <th>order_number</th>\n",
       "      <th>order_dow</th>\n",
       "      <th>order_hour_of_day</th>\n",
       "      <th>days_since_prior_order</th>\n",
       "    </tr>\n",
       "  </thead>\n",
       "  <tbody>\n",
       "  </tbody>\n",
       "</table>\n",
       "</div>"
      ],
      "text/plain": [
       "Empty DataFrame\n",
       "Columns: [order_id, user_id, order_number, order_dow, order_hour_of_day, days_since_prior_order]\n",
       "Index: []"
      ]
     },
     "execution_count": 23,
     "metadata": {},
     "output_type": "execute_result"
    }
   ],
   "source": [
    "# Are there any missing values where it's not a customer's first order? \n",
    "\n",
    "#Filter orders datafram by searching for missing values in days_since_prior order column \n",
    "#and write conditional statement so that result diplays order numbers not equal to 1.\n",
    "orders[(orders['days_since_prior_order'].isna()) & (orders['order_number'] != 1)]"
   ]
  },
  {
   "cell_type": "markdown",
   "id": "41567e6d",
   "metadata": {},
   "source": [
    "Code Meaning: \n",
    "Code Result: There are no missing values in orders where it's not a customer's first order"
   ]
  },
  {
   "cell_type": "markdown",
   "id": "4e23d089",
   "metadata": {},
   "source": [
    "<div class=\"alert alert-block alert-success\"> <b>Reviewer's comment</b> <a \n",
    "class=\"tocSkip\"></a>\n",
    "Right\n",
    "\n",
    "\n",
    "</div>"
   ]
  },
  {
   "cell_type": "markdown",
   "id": "69dc9ca4",
   "metadata": {},
   "source": [
    "### `order_products` data frame"
   ]
  },
  {
   "cell_type": "code",
   "execution_count": 24,
   "id": "9a78e5ee",
   "metadata": {},
   "outputs": [
    {
     "data": {
      "text/plain": [
       "1.0"
      ]
     },
     "metadata": {},
     "output_type": "display_data"
    },
    {
     "data": {
      "text/plain": [
       "64.0"
      ]
     },
     "execution_count": 24,
     "metadata": {},
     "output_type": "execute_result"
    }
   ],
   "source": [
    "# What are the min and max values in this column?\n",
    "\n",
    "# Use the min() method on the add_to_cart order column to find the minimum values in the order_products column.\n",
    "display(order_products['add_to_cart_order'].min())\n",
    "\n",
    "#Use the max() method on the add_to_cart order column to find the maximum values in the order_products column.\n",
    "order_products['add_to_cart_order'].max()"
   ]
  },
  {
   "cell_type": "markdown",
   "id": "57b0d3dd",
   "metadata": {},
   "source": [
    "Code Result:  The minimum value for the add_to_cart_order column of the order_products dataframe is 1.0.\n",
    "The maximum values for the add_to_cart_order column of the order_products dataframe is 64.0"
   ]
  },
  {
   "cell_type": "markdown",
   "id": "f569482c",
   "metadata": {},
   "source": [
    "<div class=\"alert alert-block alert-success\"> <b>Reviewer's comment</b> <a \n",
    "class=\"tocSkip\"></a>\n",
    "Correct\n",
    "\n",
    "\n",
    "</div>"
   ]
  },
  {
   "cell_type": "code",
   "execution_count": 25,
   "id": "ab9d0c2b",
   "metadata": {},
   "outputs": [],
   "source": [
    "# Save all order IDs with at least one missing value in 'add_to_cart_order'\n",
    "\n",
    "#Filter the order_products dataframe in order to check for missing values in the add_to_cart_order column of the order_products \n",
    "#dataframe with the isna() method.  Use the unique() method to check for unique values in the 'order_id' column of the \n",
    "#order_products dataframe.  Wrap the whole line of code in the list()function to display results as a list.  Assign the \n",
    "#result to missing_list.\n",
    "missing_list = list(order_products[order_products['add_to_cart_order'].isna()]['order_id'].unique())"
   ]
  },
  {
   "cell_type": "code",
   "execution_count": 26,
   "id": "54c31695",
   "metadata": {},
   "outputs": [
    {
     "data": {
      "text/plain": [
       "order_id\n",
       "9310        65\n",
       "747668      65\n",
       "1598369     65\n",
       "1677118     65\n",
       "2170451     65\n",
       "          ... \n",
       "1959075     98\n",
       "171934     104\n",
       "2136777    108\n",
       "3308010    115\n",
       "61355      127\n",
       "Length: 70, dtype: int64"
      ]
     },
     "execution_count": 26,
     "metadata": {},
     "output_type": "execute_result"
    }
   ],
   "source": [
    "# Do all orders with missing values have more than 64 products? \n",
    "\n",
    "\n",
    "#Filter the order_products dataframe use the isin() function on the order_id column of the order_products \n",
    "#dataframe and pass missing_list as a parameter to check for reoccurring values between the order_id column \n",
    "#and the values from missing_list.  Call groupby() method on order_id column to group results by order_id.  \n",
    "#Add size() method to code in order to count values.  Add sort_values() to code in order to sort results in ascending order.\n",
    "order_products[order_products['order_id'].isin(missing_list)].groupby('order_id').size().sort_values()"
   ]
  },
  {
   "cell_type": "markdown",
   "id": "2855ab2a",
   "metadata": {},
   "source": [
    "Code result: Yes, the orders with missing values in the order_id column of the order_id dataframe have more than 64 products."
   ]
  },
  {
   "cell_type": "markdown",
   "id": "6c2a2dc5",
   "metadata": {},
   "source": [
    "<div class=\"alert alert-block alert-success\"> <b>Reviewer's comment</b> <a \n",
    "class=\"tocSkip\"></a>\n",
    "Great job\n",
    "\n",
    "\n",
    "</div>"
   ]
  },
  {
   "cell_type": "code",
   "execution_count": 27,
   "id": "7a987d08",
   "metadata": {},
   "outputs": [],
   "source": [
    "# Replace missing values with 999 and convert column to integer type\n",
    "\n",
    "#Use fillna() method on the add_to_cart_order column of the order_products dataframe.  Add 999 as argument to fillna in \n",
    "#order to full missing values. Add astype('int') to code in order to convert column to integer type.\n",
    "order_products['add_to_cart_order'] = order_products['add_to_cart_order'].fillna('999').astype('int')"
   ]
  },
  {
   "cell_type": "markdown",
   "id": "fea4bcc7",
   "metadata": {},
   "source": []
  },
  {
   "cell_type": "markdown",
   "id": "turkish-kidney",
   "metadata": {},
   "source": [
    "# [A] Easy (must complete all to pass)"
   ]
  },
  {
   "cell_type": "markdown",
   "id": "short-capability",
   "metadata": {},
   "source": [
    "### [A1] Verify that the `'order_hour_of_day'` and `'order_dow'` values in the `orders` tables are sensible (i.e. `'order_hour_of_day'` ranges from 0 to 23 and `'order_dow'` ranges from 0 to 6)"
   ]
  },
  {
   "cell_type": "code",
   "execution_count": 28,
   "id": "growing-fruit",
   "metadata": {},
   "outputs": [
    {
     "data": {
      "text/plain": [
       "array([ 0,  1,  2,  3,  4,  5,  6,  7,  8,  9, 10, 11, 12, 13, 14, 15, 16,\n",
       "       17, 18, 19, 20, 21, 22, 23], dtype=int64)"
      ]
     },
     "execution_count": 28,
     "metadata": {},
     "output_type": "execute_result"
    }
   ],
   "source": [
    "#Use np.sort() in order to sort the order_hour_of the day column in the orders dataframe.  \n",
    "#Use the unique method on the order_hour_of_day column of the orders dataframe in order to check for unique values.\n",
    "np.sort(orders['order_hour_of_day'].unique())"
   ]
  },
  {
   "cell_type": "markdown",
   "id": "9c7b1ac7",
   "metadata": {},
   "source": [
    "Code Result: The'order_hour_of_day' table has sensisble ranges from 0 to 23."
   ]
  },
  {
   "cell_type": "code",
   "execution_count": 29,
   "id": "accessory-malaysia",
   "metadata": {},
   "outputs": [
    {
     "data": {
      "text/plain": [
       "array([0, 1, 2, 3, 4, 5, 6], dtype=int64)"
      ]
     },
     "execution_count": 29,
     "metadata": {},
     "output_type": "execute_result"
    }
   ],
   "source": [
    "#Use np.sort() in order to sort the order_dow column in the orders dataframe.  \n",
    "#Use the unique method on the order_dow column of the orders dataframe in order to check for unique values.\n",
    "np.sort(orders['order_dow'].unique())"
   ]
  },
  {
   "cell_type": "markdown",
   "id": "218adeeb",
   "metadata": {},
   "source": [
    "Code result: The 'order_dow' table has sensible ranges from 0 to 6."
   ]
  },
  {
   "cell_type": "markdown",
   "id": "429cf0b9",
   "metadata": {},
   "source": [
    "<div class=\"alert alert-block alert-success\"> <b>Reviewer's comment</b> <a \n",
    "class=\"tocSkip\"></a>\n",
    "Well done\n",
    "\n",
    "\n",
    "</div>"
   ]
  },
  {
   "cell_type": "markdown",
   "id": "a6743a70",
   "metadata": {},
   "source": [
    "### [A2] What time of day do people shop for groceries?"
   ]
  },
  {
   "cell_type": "code",
   "execution_count": 30,
   "id": "8752b3f8",
   "metadata": {},
   "outputs": [],
   "source": [
    "#Use the value_counts() method to calculate values in the order_hour_of_day column of the orders dataframe.  \n",
    "#Add sort_index() to code in order to sort results in ascending order. Assign result to order_hours_of_day_values \n",
    "#to create new variable.\n",
    "order_hours_of_day_values = orders['order_hour_of_day'].value_counts().sort_index()"
   ]
  },
  {
   "cell_type": "code",
   "execution_count": 31,
   "id": "86990a45",
   "metadata": {
    "scrolled": false
   },
   "outputs": [
    {
     "data": {
      "image/png": "[encoded data removed]",
      "text/plain": [
       "<Figure size 640x480 with 1 Axes>"
      ]
     },
     "metadata": {},
     "output_type": "display_data"
    }
   ],
   "source": [
    "#Use plot() function on order_hours_of_day_values variable in the previous line of code to display bar graph. \n",
    "#Add: kind='bar', title='Time People Shop for Groceries', xlabel='order hour of day', ylabel='number of orders'\n",
    "#as arguements to plot() function. Use plt.show() in order to display result.\n",
    "order_hours_of_day_values.plot(kind='bar', title='Time People Shop for Groceries', \n",
    "                               xlabel='order hour of day', \n",
    "                               ylabel='number of orders')\n",
    "plt.show()"
   ]
  },
  {
   "cell_type": "markdown",
   "id": "4d9aec0e",
   "metadata": {},
   "source": [
    "Code Result: According to the graph above, people normally shop for groceries the most at 10:00 am."
   ]
  },
  {
   "cell_type": "markdown",
   "id": "11270eed",
   "metadata": {},
   "source": [
    "<div class=\"alert alert-block alert-success\"> <b>Reviewer's comment</b> <a \n",
    "class=\"tocSkip\"></a>\n",
    "Very nice visualization\n",
    "\n",
    "\n",
    "</div>"
   ]
  },
  {
   "cell_type": "markdown",
   "id": "documented-command",
   "metadata": {},
   "source": [
    "### [A3] What day of the week do people shop for groceries?"
   ]
  },
  {
   "cell_type": "code",
   "execution_count": 32,
   "id": "chief-digit",
   "metadata": {},
   "outputs": [],
   "source": [
    "#Use the value_counts() method to calculate values in the order_dow column of the orders dataframe.  \n",
    "#Add sort_index() to code in order to sort results in ascending order.\n",
    "order_dow_values = orders['order_dow'].value_counts().sort_index()"
   ]
  },
  {
   "cell_type": "code",
   "execution_count": 33,
   "id": "47309aa1",
   "metadata": {},
   "outputs": [
    {
     "data": {
      "image/png": "[encoded data removed]",
      "text/plain": [
       "<Figure size 640x480 with 1 Axes>"
      ]
     },
     "metadata": {},
     "output_type": "display_data"
    }
   ],
   "source": [
    "#Use plot() function on order_dow_values variable in the previous line of code to display bar graph. \n",
    "#Add: kind='bar', title='Day of the Week That People Shop for Groceries', xlabel='order day of week',\n",
    "#ylabel='number of orders'as arguements to the plot() function.  Use plt.show() to display result.\n",
    "order_dow_values.plot(kind='bar', \n",
    "                      title='Day of the Week That People Shop for Groceries', \n",
    "                      xlabel='order day of week', \n",
    "                      ylabel='number of orders')\n",
    "plt.show()"
   ]
  },
  {
   "cell_type": "markdown",
   "id": "c393a4c3",
   "metadata": {},
   "source": [
    "Code result: People normally shop for groceries on Sunday."
   ]
  },
  {
   "cell_type": "markdown",
   "id": "dominant-lightning",
   "metadata": {},
   "source": [
    "<div class=\"alert alert-block alert-success\"> <b>Reviewer's comment</b> <a \n",
    "class=\"tocSkip\"></a>\n",
    "Right\n",
    "\n",
    "\n",
    "</div>"
   ]
  },
  {
   "cell_type": "markdown",
   "id": "cutting-concert",
   "metadata": {},
   "source": [
    "### [A4] How long do people wait until placing another order?"
   ]
  },
  {
   "cell_type": "code",
   "execution_count": 34,
   "id": "c231f523",
   "metadata": {},
   "outputs": [],
   "source": [
    "#Use the value_counts() method to calculate values in the days_since_prior_order column of the orders dataframe.  \n",
    "#Add sort_index() to code in order to sort results in ascending order. \n",
    "#Assign result to days_since_prior_order_values to create new variable.\n",
    "days_since_prior_order_values = orders['days_since_prior_order'].value_counts().sort_index()"
   ]
  },
  {
   "cell_type": "markdown",
   "id": "discrete-vertex",
   "metadata": {},
   "source": []
  },
  {
   "cell_type": "code",
   "execution_count": 35,
   "id": "08aeb4a6",
   "metadata": {},
   "outputs": [
    {
     "data": {
      "image/png": "[encoded data removed]",
      "text/plain": [
       "<Figure size 640x480 with 1 Axes>"
      ]
     },
     "metadata": {},
     "output_type": "display_data"
    }
   ],
   "source": [
    "#Use plot() function on the days_since_prior_order variable in the previous line of code to display bar graph.\n",
    "#Add: kind='bar', title='Length of Time That People Wait for Orders', xlabel='Days Since Prior Order', \n",
    "#ylabel='Number of Customers Placing Order for Defined Time Period' as an arguement to plot().Use plt.show() to \n",
    "#display the result.\n",
    "days_since_prior_order_values.plot(kind='bar', \n",
    "                                   title='Length of Time That People Wait for Orders', \n",
    "                                   xlabel='Days Since Prior Order', \n",
    "                                   ylabel='Number of Customers Placing Order for Defined Time Period')\n",
    "plt.show()"
   ]
  },
  {
   "cell_type": "markdown",
   "id": "40b554cf",
   "metadata": {},
   "source": [
    "Code Result:The chart above displays that most customers wait an average of 30 days to wait for an order.  The fewest amount of customers in the graph above wait an average of 0 days for an order."
   ]
  },
  {
   "cell_type": "markdown",
   "id": "8d926614",
   "metadata": {},
   "source": [
    "<div class=\"alert alert-block alert-success\"> <b>Reviewer's comment</b> <a \n",
    "class=\"tocSkip\"></a>\n",
    "Correct\n",
    "\n",
    "\n",
    "</div>"
   ]
  },
  {
   "cell_type": "markdown",
   "id": "tight-staff",
   "metadata": {},
   "source": [
    "# [B] Medium (must complete all to pass)"
   ]
  },
  {
   "cell_type": "markdown",
   "id": "packed-classic",
   "metadata": {},
   "source": [
    "### [B1] Is there a difference in `'order_hour_of_day'` distributions on Wednesdays and Saturdays? Plot the histograms for both days and describe the differences that you see."
   ]
  },
  {
   "cell_type": "code",
   "execution_count": 36,
   "id": "d89b8403",
   "metadata": {},
   "outputs": [],
   "source": [
    "#Filter orders dataframe.  Set up conditional indexing so that result displays: order_dow == 3 \n",
    "#(3 meaning the index for Wednesday). Select the ['order_hour_of_day'] column.\n",
    "orders_wednesday = orders[orders['order_dow'] == 3]['order_hour_of_day']\n",
    "\n",
    "#Filter orders dataframe.  Set up conditional indexing so that the result displays: order_dow == 6\n",
    "#(6 meaning the index for Saturday).  Select the ['order_hour_of_day'] column.\n",
    "orders_saturday = orders[orders['order_dow'] == 6]['order_hour_of_day']"
   ]
  },
  {
   "cell_type": "markdown",
   "id": "74151249",
   "metadata": {},
   "source": []
  },
  {
   "cell_type": "code",
   "execution_count": 37,
   "id": "94e54e8a",
   "metadata": {},
   "outputs": [
    {
     "data": {
      "image/png": "[encoded data removed]",
      "text/plain": [
       "<Figure size 640x480 with 1 Axes>"
      ]
     },
     "metadata": {},
     "output_type": "display_data"
    }
   ],
   "source": [
    "#Use plt.hist() on orders_wednesday and orders_saturday.  Add arguments (orders_saturday or orders_wednseday,\n",
    "#bins=20, alpha=0.5 and label='Saturday' or label='Wednesday') to plt.hist(), forming two lines of code.  \n",
    "#One for orders_wednesday and one for orders_saturday.\n",
    "plt.hist(orders_wednesday, bins=24, alpha=0.5, label='Wednesday')\n",
    "plt.hist(orders_saturday, bins=24, alpha=0.5, label='Saturday')\n",
    "\n",
    "#Add plt.xlabel('Hour of Day') to label x-axis\n",
    "plt.xlabel('Hour Of The Day')\n",
    "\n",
    "#Add plt.ylabel('Frequency') to label y-axis.\n",
    "plt.ylabel('Frequency')\n",
    "\n",
    "#Add plt.legend(loc='upper right') in order to display legend on the upper right section of the histogram.\n",
    "plt.legend(loc='upper right')\n",
    "\n",
    "#Add plt.show() in order to display plot.\n",
    "plt.show()"
   ]
  },
  {
   "cell_type": "markdown",
   "id": "4f0ad2fa",
   "metadata": {},
   "source": []
  },
  {
   "cell_type": "markdown",
   "id": "014f18bc",
   "metadata": {},
   "source": [
    " Code Result: It seems that there are more orders for the day on Saturdays and less orders of the day on Wednesdays"
   ]
  },
  {
   "cell_type": "markdown",
   "id": "charitable-congo",
   "metadata": {},
   "source": [
    "<div class=\"alert alert-block alert-success\"> <b>Reviewer's comment</b> <a \n",
    "class=\"tocSkip\"></a>\n",
    "Perfect Great that you use bins = 24 and set up alpha\n",
    "\n",
    "\n",
    "</div>"
   ]
  },
  {
   "cell_type": "markdown",
   "id": "e3891143",
   "metadata": {},
   "source": [
    "### [B2] What's the distribution for the number of orders per customer?"
   ]
  },
  {
   "cell_type": "code",
   "execution_count": 38,
   "id": "d8c26c23",
   "metadata": {},
   "outputs": [
    {
     "data": {
      "image/png": "[encoded data removed]",
      "text/plain": [
       "<Figure size 640x480 with 1 Axes>"
      ]
     },
     "metadata": {},
     "output_type": "display_data"
    }
   ],
   "source": [
    "#)Use the groupby() method on orders dataframe. Group by user_id.  Use count() method on order_id column of the \n",
    "#orders dataframe.  Use the plot() function on the previous line of code and add: kind = 'hist', title='Distribution of \n",
    "#Number of Orders per Customer Order', as arguements to plot() in order to display histogram.\n",
    "orders.groupby('user_id')['order_id'].count().plot(kind = 'hist', title='Distribution of Number of Orders per Customer Order')\n",
    "\n",
    "#Use plt.xlabel() to label the x axis.\n",
    "plt.xlabel('Number of orders per Transaction')\n",
    "#Use plt.ylabel() to label the y axis.\n",
    "plt.ylabel('Number of People Placing an Order')\n",
    "#Use plt.show() to display the chart.\n",
    "plt.show()"
   ]
  },
  {
   "cell_type": "markdown",
   "id": "857cfc90",
   "metadata": {},
   "source": [
    "Code Result: The histogram above seems to display that the most orders per customer is one order."
   ]
  },
  {
   "cell_type": "markdown",
   "id": "fa1c79d1",
   "metadata": {},
   "source": [
    "<div class=\"alert alert-block alert-danger\">\n",
    "<b>Reviewer's comment</b> <a class=\"tocSkip\"></a>\n",
    "    \n",
    "~~First we need to group data by user_id and count number of orders~~\n",
    "\n",
    "~~For example like this~~\n",
    "\n",
    "    orders.groupby('user_id')['order_id'].count().plot(kind = 'hist');\n",
    "\n",
    "</div>"
   ]
  },
  {
   "cell_type": "markdown",
   "id": "af1b9a82",
   "metadata": {},
   "source": [
    "<div class=\"alert alert-block alert-success\"> <b>Reviewer's comment v2</b> <a \n",
    "class=\"tocSkip\"></a>\n",
    "\n",
    "Super\n",
    "    \n",
    "\n",
    "\n",
    "</div>"
   ]
  },
  {
   "cell_type": "markdown",
   "id": "54a0319c",
   "metadata": {},
   "source": [
    "### [B3] What are the top 20 popular products (display their id and name)?"
   ]
  },
  {
   "cell_type": "code",
   "execution_count": 39,
   "id": "exterior-arizona",
   "metadata": {
    "scrolled": true
   },
   "outputs": [
    {
     "data": {
      "text/plain": [
       "24852    66050\n",
       "13176    53297\n",
       "21137    37039\n",
       "21903    33971\n",
       "47209    29773\n",
       "47766    24689\n",
       "47626    21495\n",
       "16797    20018\n",
       "26209    19690\n",
       "27845    19600\n",
       "27966    19197\n",
       "22935    15898\n",
       "24964    15292\n",
       "45007    14584\n",
       "39275    13879\n",
       "49683    13675\n",
       "28204    12544\n",
       "5876     12232\n",
       "8277     11993\n",
       "40706    11781\n",
       "Name: product_id, dtype: int64"
      ]
     },
     "execution_count": 39,
     "metadata": {},
     "output_type": "execute_result"
    }
   ],
   "source": [
    "#Use the value_counts() method on the product_id column of the order_products dataframe.  \n",
    "#Print the first 20 rows by using head(20).\n",
    "order_products['product_id'].value_counts().head(20)"
   ]
  },
  {
   "cell_type": "code",
   "execution_count": 40,
   "id": "adab1fe7",
   "metadata": {},
   "outputs": [
    {
     "data": {
      "text/html": [
       "<div>\n",
       "<style scoped>\n",
       "    .dataframe tbody tr th:only-of-type {\n",
       "        vertical-align: middle;\n",
       "    }\n",
       "\n",
       "    .dataframe tbody tr th {\n",
       "        vertical-align: top;\n",
       "    }\n",
       "\n",
       "    .dataframe thead th {\n",
       "        text-align: right;\n",
       "    }\n",
       "</style>\n",
       "<table border=\"1\" class=\"dataframe\">\n",
       "  <thead>\n",
       "    <tr style=\"text-align: right;\">\n",
       "      <th></th>\n",
       "      <th>product_id</th>\n",
       "      <th>count</th>\n",
       "    </tr>\n",
       "  </thead>\n",
       "  <tbody>\n",
       "    <tr>\n",
       "      <th>0</th>\n",
       "      <td>24852</td>\n",
       "      <td>66050</td>\n",
       "    </tr>\n",
       "    <tr>\n",
       "      <th>1</th>\n",
       "      <td>13176</td>\n",
       "      <td>53297</td>\n",
       "    </tr>\n",
       "    <tr>\n",
       "      <th>2</th>\n",
       "      <td>21137</td>\n",
       "      <td>37039</td>\n",
       "    </tr>\n",
       "    <tr>\n",
       "      <th>3</th>\n",
       "      <td>21903</td>\n",
       "      <td>33971</td>\n",
       "    </tr>\n",
       "    <tr>\n",
       "      <th>4</th>\n",
       "      <td>47209</td>\n",
       "      <td>29773</td>\n",
       "    </tr>\n",
       "    <tr>\n",
       "      <th>5</th>\n",
       "      <td>47766</td>\n",
       "      <td>24689</td>\n",
       "    </tr>\n",
       "    <tr>\n",
       "      <th>6</th>\n",
       "      <td>47626</td>\n",
       "      <td>21495</td>\n",
       "    </tr>\n",
       "    <tr>\n",
       "      <th>7</th>\n",
       "      <td>16797</td>\n",
       "      <td>20018</td>\n",
       "    </tr>\n",
       "    <tr>\n",
       "      <th>8</th>\n",
       "      <td>26209</td>\n",
       "      <td>19690</td>\n",
       "    </tr>\n",
       "    <tr>\n",
       "      <th>9</th>\n",
       "      <td>27845</td>\n",
       "      <td>19600</td>\n",
       "    </tr>\n",
       "    <tr>\n",
       "      <th>10</th>\n",
       "      <td>27966</td>\n",
       "      <td>19197</td>\n",
       "    </tr>\n",
       "    <tr>\n",
       "      <th>11</th>\n",
       "      <td>22935</td>\n",
       "      <td>15898</td>\n",
       "    </tr>\n",
       "    <tr>\n",
       "      <th>12</th>\n",
       "      <td>24964</td>\n",
       "      <td>15292</td>\n",
       "    </tr>\n",
       "    <tr>\n",
       "      <th>13</th>\n",
       "      <td>45007</td>\n",
       "      <td>14584</td>\n",
       "    </tr>\n",
       "    <tr>\n",
       "      <th>14</th>\n",
       "      <td>39275</td>\n",
       "      <td>13879</td>\n",
       "    </tr>\n",
       "    <tr>\n",
       "      <th>15</th>\n",
       "      <td>49683</td>\n",
       "      <td>13675</td>\n",
       "    </tr>\n",
       "    <tr>\n",
       "      <th>16</th>\n",
       "      <td>28204</td>\n",
       "      <td>12544</td>\n",
       "    </tr>\n",
       "    <tr>\n",
       "      <th>17</th>\n",
       "      <td>5876</td>\n",
       "      <td>12232</td>\n",
       "    </tr>\n",
       "    <tr>\n",
       "      <th>18</th>\n",
       "      <td>8277</td>\n",
       "      <td>11993</td>\n",
       "    </tr>\n",
       "    <tr>\n",
       "      <th>19</th>\n",
       "      <td>40706</td>\n",
       "      <td>11781</td>\n",
       "    </tr>\n",
       "  </tbody>\n",
       "</table>\n",
       "</div>"
      ],
      "text/plain": [
       "    product_id  count\n",
       "0        24852  66050\n",
       "1        13176  53297\n",
       "2        21137  37039\n",
       "3        21903  33971\n",
       "4        47209  29773\n",
       "5        47766  24689\n",
       "6        47626  21495\n",
       "7        16797  20018\n",
       "8        26209  19690\n",
       "9        27845  19600\n",
       "10       27966  19197\n",
       "11       22935  15898\n",
       "12       24964  15292\n",
       "13       45007  14584\n",
       "14       39275  13879\n",
       "15       49683  13675\n",
       "16       28204  12544\n",
       "17        5876  12232\n",
       "18        8277  11993\n",
       "19       40706  11781"
      ]
     },
     "execution_count": 40,
     "metadata": {},
     "output_type": "execute_result"
    }
   ],
   "source": [
    "#Use reset_index() method to reset the index on the code from the previous line.  Use the rename() function to rename the \n",
    "#olumns.  Add columns={'index': 'product_id', 'product_id': 'count'} as an arguement to rename() in order to rename columns \n",
    "#and set axis to columns.\n",
    "order_products['product_id'].value_counts().head(20).reset_index().rename(columns={'index': 'product_id', 'product_id': 'count'})"
   ]
  },
  {
   "cell_type": "markdown",
   "id": "9b8bc515",
   "metadata": {},
   "source": []
  },
  {
   "cell_type": "code",
   "execution_count": 41,
   "id": "universal-facial",
   "metadata": {},
   "outputs": [],
   "source": [
    "#Take the previous code and merge onto the product_id and product_name columns in the products dataframe.  Add on = 'product_id' \n",
    "#as an argument to merge() in order to merge on the product_id column. Add how = 'left' as an arguement to merge() in order to \n",
    "#perform a left merge. \n",
    "top_20_popular_products = order_products['product_id'].value_counts().head(20).reset_index().rename(columns={'index': 'product_id', 'product_id': 'count'}).merge(products[['product_id', 'product_name']], on = 'product_id', how='left')"
   ]
  },
  {
   "cell_type": "markdown",
   "id": "624c5764",
   "metadata": {},
   "source": []
  },
  {
   "cell_type": "code",
   "execution_count": 42,
   "id": "bbcdd20b",
   "metadata": {},
   "outputs": [
    {
     "data": {
      "text/html": [
       "<div>\n",
       "<style scoped>\n",
       "    .dataframe tbody tr th:only-of-type {\n",
       "        vertical-align: middle;\n",
       "    }\n",
       "\n",
       "    .dataframe tbody tr th {\n",
       "        vertical-align: top;\n",
       "    }\n",
       "\n",
       "    .dataframe thead th {\n",
       "        text-align: right;\n",
       "    }\n",
       "</style>\n",
       "<table border=\"1\" class=\"dataframe\">\n",
       "  <thead>\n",
       "    <tr style=\"text-align: right;\">\n",
       "      <th></th>\n",
       "      <th>product_id</th>\n",
       "      <th>count</th>\n",
       "      <th>product_name</th>\n",
       "    </tr>\n",
       "  </thead>\n",
       "  <tbody>\n",
       "    <tr>\n",
       "      <th>0</th>\n",
       "      <td>24852</td>\n",
       "      <td>66050</td>\n",
       "      <td>Banana</td>\n",
       "    </tr>\n",
       "    <tr>\n",
       "      <th>1</th>\n",
       "      <td>13176</td>\n",
       "      <td>53297</td>\n",
       "      <td>Bag of Organic Bananas</td>\n",
       "    </tr>\n",
       "    <tr>\n",
       "      <th>2</th>\n",
       "      <td>21137</td>\n",
       "      <td>37039</td>\n",
       "      <td>Organic Strawberries</td>\n",
       "    </tr>\n",
       "    <tr>\n",
       "      <th>3</th>\n",
       "      <td>21903</td>\n",
       "      <td>33971</td>\n",
       "      <td>Organic Baby Spinach</td>\n",
       "    </tr>\n",
       "    <tr>\n",
       "      <th>4</th>\n",
       "      <td>47209</td>\n",
       "      <td>29773</td>\n",
       "      <td>Organic Hass Avocado</td>\n",
       "    </tr>\n",
       "    <tr>\n",
       "      <th>5</th>\n",
       "      <td>47766</td>\n",
       "      <td>24689</td>\n",
       "      <td>Organic Avocado</td>\n",
       "    </tr>\n",
       "    <tr>\n",
       "      <th>6</th>\n",
       "      <td>47626</td>\n",
       "      <td>21495</td>\n",
       "      <td>Large Lemon</td>\n",
       "    </tr>\n",
       "    <tr>\n",
       "      <th>7</th>\n",
       "      <td>16797</td>\n",
       "      <td>20018</td>\n",
       "      <td>Strawberries</td>\n",
       "    </tr>\n",
       "    <tr>\n",
       "      <th>8</th>\n",
       "      <td>26209</td>\n",
       "      <td>19690</td>\n",
       "      <td>Limes</td>\n",
       "    </tr>\n",
       "    <tr>\n",
       "      <th>9</th>\n",
       "      <td>27845</td>\n",
       "      <td>19600</td>\n",
       "      <td>Organic Whole Milk</td>\n",
       "    </tr>\n",
       "    <tr>\n",
       "      <th>10</th>\n",
       "      <td>27966</td>\n",
       "      <td>19197</td>\n",
       "      <td>Organic Raspberries</td>\n",
       "    </tr>\n",
       "    <tr>\n",
       "      <th>11</th>\n",
       "      <td>22935</td>\n",
       "      <td>15898</td>\n",
       "      <td>Organic Yellow Onion</td>\n",
       "    </tr>\n",
       "    <tr>\n",
       "      <th>12</th>\n",
       "      <td>24964</td>\n",
       "      <td>15292</td>\n",
       "      <td>Organic Garlic</td>\n",
       "    </tr>\n",
       "    <tr>\n",
       "      <th>13</th>\n",
       "      <td>45007</td>\n",
       "      <td>14584</td>\n",
       "      <td>Organic Zucchini</td>\n",
       "    </tr>\n",
       "    <tr>\n",
       "      <th>14</th>\n",
       "      <td>39275</td>\n",
       "      <td>13879</td>\n",
       "      <td>Organic Blueberries</td>\n",
       "    </tr>\n",
       "    <tr>\n",
       "      <th>15</th>\n",
       "      <td>49683</td>\n",
       "      <td>13675</td>\n",
       "      <td>Cucumber Kirby</td>\n",
       "    </tr>\n",
       "    <tr>\n",
       "      <th>16</th>\n",
       "      <td>28204</td>\n",
       "      <td>12544</td>\n",
       "      <td>Organic Fuji Apple</td>\n",
       "    </tr>\n",
       "    <tr>\n",
       "      <th>17</th>\n",
       "      <td>5876</td>\n",
       "      <td>12232</td>\n",
       "      <td>Organic Lemon</td>\n",
       "    </tr>\n",
       "    <tr>\n",
       "      <th>18</th>\n",
       "      <td>8277</td>\n",
       "      <td>11993</td>\n",
       "      <td>Apple Honeycrisp Organic</td>\n",
       "    </tr>\n",
       "    <tr>\n",
       "      <th>19</th>\n",
       "      <td>40706</td>\n",
       "      <td>11781</td>\n",
       "      <td>Organic Grape Tomatoes</td>\n",
       "    </tr>\n",
       "  </tbody>\n",
       "</table>\n",
       "</div>"
      ],
      "text/plain": [
       "    product_id  count              product_name\n",
       "0        24852  66050                    Banana\n",
       "1        13176  53297    Bag of Organic Bananas\n",
       "2        21137  37039      Organic Strawberries\n",
       "3        21903  33971      Organic Baby Spinach\n",
       "4        47209  29773      Organic Hass Avocado\n",
       "5        47766  24689           Organic Avocado\n",
       "6        47626  21495               Large Lemon\n",
       "7        16797  20018              Strawberries\n",
       "8        26209  19690                     Limes\n",
       "9        27845  19600        Organic Whole Milk\n",
       "10       27966  19197       Organic Raspberries\n",
       "11       22935  15898      Organic Yellow Onion\n",
       "12       24964  15292            Organic Garlic\n",
       "13       45007  14584          Organic Zucchini\n",
       "14       39275  13879       Organic Blueberries\n",
       "15       49683  13675            Cucumber Kirby\n",
       "16       28204  12544        Organic Fuji Apple\n",
       "17        5876  12232             Organic Lemon\n",
       "18        8277  11993  Apple Honeycrisp Organic\n",
       "19       40706  11781    Organic Grape Tomatoes"
      ]
     },
     "execution_count": 42,
     "metadata": {},
     "output_type": "execute_result"
    }
   ],
   "source": [
    "#Print top_20_popular products in order to display the top 20 popular products along with\n",
    "#their product_id and product_name displayed.\n",
    "top_20_popular_products"
   ]
  },
  {
   "cell_type": "markdown",
   "id": "ab65c647",
   "metadata": {},
   "source": [
    "<div class=\"alert alert-block alert-danger\">\n",
    "<b>Reviewer's comment</b> <a class=\"tocSkip\"></a>\n",
    "    \n",
    "~~Not correct Try to merge dataframes on product_id~~\n",
    "    \n",
    "\n",
    "~~1 Find top 20 most popular product_id like you made~~\n",
    "    \n",
    "    order_products['product_id'].value_counts().head(20)\n",
    "    \n",
    "    \n",
    "\n",
    "~~2 In index you will have product_id and in values - how many times product was ordered So~~\n",
    "    \n",
    "    \n",
    "    order_products['product_id'].value_counts().head(10).reset_index().rename(columns = {'index':'product_id', 'product_id';'count'})\n",
    "    \n",
    "    \n",
    "~~3 Merge name from product~~\n",
    "    \n",
    "    order_products['product_id'].value_counts().head(10).reset_index().rename(columns = {'index':'product_id', 'product_id':'count'}).merge(products[['product_id', 'product_name']], on = 'product_id', how = 'left')\n",
    "\n",
    "</div>"
   ]
  },
  {
   "cell_type": "markdown",
   "id": "7df00f47",
   "metadata": {},
   "source": [
    "<div class=\"alert alert-block alert-success\"> <b>Reviewer's comment v2</b> <a \n",
    "class=\"tocSkip\"></a>\n",
    "\n",
    "Correct\n",
    "</div>"
   ]
  },
  {
   "cell_type": "markdown",
   "id": "gross-theme",
   "metadata": {},
   "source": [
    "# [C] Hard (must complete at least two to pass)"
   ]
  },
  {
   "cell_type": "markdown",
   "id": "romantic-deposit",
   "metadata": {},
   "source": [
    "### [C1] How many items do people typically buy in one order? What does the distribution look like?"
   ]
  },
  {
   "cell_type": "code",
   "execution_count": 43,
   "id": "f9b01545",
   "metadata": {},
   "outputs": [],
   "source": [
    "#Use groupby() function on order_products dataframe.  Group by order_id.  Use count() method on\n",
    "#product_id column of the order_products dataframe. \n",
    "items_per_order = order_products.groupby('order_id')['product_id'].count()"
   ]
  },
  {
   "cell_type": "markdown",
   "id": "bdaff0f0",
   "metadata": {},
   "source": []
  },
  {
   "cell_type": "code",
   "execution_count": 44,
   "id": "sensitive-breathing",
   "metadata": {},
   "outputs": [
    {
     "data": {
      "image/png": "[encoded data removed]",
      "text/plain": [
       "<Figure size 640x480 with 1 Axes>"
      ]
     },
     "metadata": {},
     "output_type": "display_data"
    }
   ],
   "source": [
    "#Use the plot() method on items_per_order.  Add: kind='hist', bins=20, title='Items People \n",
    "#Typically Buy in One Order' as arguements to plot().\n",
    "items_per_order.plot(kind='hist', bins=20, title='Items People Typically Buy in One Order') \n",
    "\n",
    "#Use plt.xlabel() to label the x axis.\n",
    "plt.xlabel('Number Of Items Bought In One Order')\n",
    "#Use plt.ylabel() to label the y axis.\n",
    "plt.ylabel('Frequency')\n",
    "#Use plt.show() to display the result.\n",
    "plt.show()"
   ]
  },
  {
   "cell_type": "markdown",
   "id": "976507b5",
   "metadata": {},
   "source": []
  },
  {
   "cell_type": "code",
   "execution_count": 45,
   "id": "completed-frank",
   "metadata": {},
   "outputs": [],
   "source": [
    "#Calculate average items per order by calling mean() method \n",
    "#on items_per_order to calculate mean order of items.  Assign result to avg_items.\n",
    "avg_items = items_per_order.mean()"
   ]
  },
  {
   "cell_type": "markdown",
   "id": "fe86eedd",
   "metadata": {},
   "source": []
  },
  {
   "cell_type": "code",
   "execution_count": 46,
   "id": "d1858790",
   "metadata": {},
   "outputs": [
    {
     "data": {
      "text/plain": [
       "('The average number of items per order is :', 10)"
      ]
     },
     "execution_count": 46,
     "metadata": {},
     "output_type": "execute_result"
    }
   ],
   "source": [
    "#Apply the int() function to avg_items at the end of the statement to display average number of items per order\n",
    "#as an integer.\n",
    "\"The average number of items per order is :\", int(avg_items)"
   ]
  },
  {
   "cell_type": "markdown",
   "id": "694cd927",
   "metadata": {},
   "source": [
    "Code Result:\n",
    "The average number of items per order is 10 items."
   ]
  },
  {
   "cell_type": "markdown",
   "id": "6b366753",
   "metadata": {},
   "source": [
    "<div class=\"alert alert-block alert-success\"> <b>Reviewer's comment</b> <a \n",
    "class=\"tocSkip\"></a>\n",
    "Everything is correct here\n",
    "\n",
    "\n",
    "</div>"
   ]
  },
  {
   "cell_type": "markdown",
   "id": "designed-mortality",
   "metadata": {},
   "source": []
  },
  {
   "cell_type": "markdown",
   "id": "5e6b5537",
   "metadata": {},
   "source": [
    "### [C2] What are the top 20 items that are reordered most frequently (display their names and product IDs)?"
   ]
  },
  {
   "cell_type": "code",
   "execution_count": 47,
   "id": "29e3e1aa",
   "metadata": {},
   "outputs": [],
   "source": [
    "#Filter order_products dataframe so that the result displays that the number of products from \n",
    "#the reordered column is equal to 1.\n",
    "reordered = order_products[order_products['reordered'] == 1]"
   ]
  },
  {
   "cell_type": "markdown",
   "id": "b0d46ecc",
   "metadata": {},
   "source": []
  },
  {
   "cell_type": "code",
   "execution_count": 48,
   "id": "professional-surfing",
   "metadata": {
    "scrolled": true
   },
   "outputs": [],
   "source": [
    "#Use value_counts() method on reordered in order to calculate total of individual \n",
    "#values per item. Use head(20) to run value_counts on the first 20 rows. Use reset_index() \n",
    "#in order to reset the index on reordered['product_id'].  \n",
    "reordered_values = reordered['product_id'].value_counts().head(20).reset_index()\n",
    "\n",
    "#Use columns() in order to rename the product_id column in reordered values to \n",
    "#reorder_count.\n",
    "reordered_values.columns = ['product_id', 'reorder_count']"
   ]
  },
  {
   "cell_type": "markdown",
   "id": "84da6605",
   "metadata": {},
   "source": []
  },
  {
   "cell_type": "code",
   "execution_count": 49,
   "id": "48dd3658",
   "metadata": {},
   "outputs": [
    {
     "data": {
      "text/html": [
       "<div>\n",
       "<style scoped>\n",
       "    .dataframe tbody tr th:only-of-type {\n",
       "        vertical-align: middle;\n",
       "    }\n",
       "\n",
       "    .dataframe tbody tr th {\n",
       "        vertical-align: top;\n",
       "    }\n",
       "\n",
       "    .dataframe thead th {\n",
       "        text-align: right;\n",
       "    }\n",
       "</style>\n",
       "<table border=\"1\" class=\"dataframe\">\n",
       "  <thead>\n",
       "    <tr style=\"text-align: right;\">\n",
       "      <th></th>\n",
       "      <th>product_id</th>\n",
       "      <th>reorder_count</th>\n",
       "      <th>product_name</th>\n",
       "    </tr>\n",
       "  </thead>\n",
       "  <tbody>\n",
       "    <tr>\n",
       "      <th>0</th>\n",
       "      <td>24852</td>\n",
       "      <td>55763</td>\n",
       "      <td>Banana</td>\n",
       "    </tr>\n",
       "    <tr>\n",
       "      <th>1</th>\n",
       "      <td>13176</td>\n",
       "      <td>44450</td>\n",
       "      <td>Bag of Organic Bananas</td>\n",
       "    </tr>\n",
       "    <tr>\n",
       "      <th>2</th>\n",
       "      <td>21137</td>\n",
       "      <td>28639</td>\n",
       "      <td>Organic Strawberries</td>\n",
       "    </tr>\n",
       "    <tr>\n",
       "      <th>3</th>\n",
       "      <td>21903</td>\n",
       "      <td>26233</td>\n",
       "      <td>Organic Baby Spinach</td>\n",
       "    </tr>\n",
       "    <tr>\n",
       "      <th>4</th>\n",
       "      <td>47209</td>\n",
       "      <td>23629</td>\n",
       "      <td>Organic Hass Avocado</td>\n",
       "    </tr>\n",
       "    <tr>\n",
       "      <th>5</th>\n",
       "      <td>47766</td>\n",
       "      <td>18743</td>\n",
       "      <td>Organic Avocado</td>\n",
       "    </tr>\n",
       "    <tr>\n",
       "      <th>6</th>\n",
       "      <td>27845</td>\n",
       "      <td>16251</td>\n",
       "      <td>Organic Whole Milk</td>\n",
       "    </tr>\n",
       "    <tr>\n",
       "      <th>7</th>\n",
       "      <td>47626</td>\n",
       "      <td>15044</td>\n",
       "      <td>Large Lemon</td>\n",
       "    </tr>\n",
       "    <tr>\n",
       "      <th>8</th>\n",
       "      <td>27966</td>\n",
       "      <td>14748</td>\n",
       "      <td>Organic Raspberries</td>\n",
       "    </tr>\n",
       "    <tr>\n",
       "      <th>9</th>\n",
       "      <td>16797</td>\n",
       "      <td>13945</td>\n",
       "      <td>Strawberries</td>\n",
       "    </tr>\n",
       "    <tr>\n",
       "      <th>10</th>\n",
       "      <td>26209</td>\n",
       "      <td>13327</td>\n",
       "      <td>Limes</td>\n",
       "    </tr>\n",
       "    <tr>\n",
       "      <th>11</th>\n",
       "      <td>22935</td>\n",
       "      <td>11145</td>\n",
       "      <td>Organic Yellow Onion</td>\n",
       "    </tr>\n",
       "    <tr>\n",
       "      <th>12</th>\n",
       "      <td>24964</td>\n",
       "      <td>10411</td>\n",
       "      <td>Organic Garlic</td>\n",
       "    </tr>\n",
       "    <tr>\n",
       "      <th>13</th>\n",
       "      <td>45007</td>\n",
       "      <td>10076</td>\n",
       "      <td>Organic Zucchini</td>\n",
       "    </tr>\n",
       "    <tr>\n",
       "      <th>14</th>\n",
       "      <td>49683</td>\n",
       "      <td>9538</td>\n",
       "      <td>Cucumber Kirby</td>\n",
       "    </tr>\n",
       "    <tr>\n",
       "      <th>15</th>\n",
       "      <td>28204</td>\n",
       "      <td>8989</td>\n",
       "      <td>Organic Fuji Apple</td>\n",
       "    </tr>\n",
       "    <tr>\n",
       "      <th>16</th>\n",
       "      <td>8277</td>\n",
       "      <td>8836</td>\n",
       "      <td>Apple Honeycrisp Organic</td>\n",
       "    </tr>\n",
       "    <tr>\n",
       "      <th>17</th>\n",
       "      <td>39275</td>\n",
       "      <td>8799</td>\n",
       "      <td>Organic Blueberries</td>\n",
       "    </tr>\n",
       "    <tr>\n",
       "      <th>18</th>\n",
       "      <td>5876</td>\n",
       "      <td>8412</td>\n",
       "      <td>Organic Lemon</td>\n",
       "    </tr>\n",
       "    <tr>\n",
       "      <th>19</th>\n",
       "      <td>49235</td>\n",
       "      <td>8389</td>\n",
       "      <td>Organic Half &amp; Half</td>\n",
       "    </tr>\n",
       "  </tbody>\n",
       "</table>\n",
       "</div>"
      ],
      "text/plain": [
       "    product_id  reorder_count              product_name\n",
       "0        24852          55763                    Banana\n",
       "1        13176          44450    Bag of Organic Bananas\n",
       "2        21137          28639      Organic Strawberries\n",
       "3        21903          26233      Organic Baby Spinach\n",
       "4        47209          23629      Organic Hass Avocado\n",
       "5        47766          18743           Organic Avocado\n",
       "6        27845          16251        Organic Whole Milk\n",
       "7        47626          15044               Large Lemon\n",
       "8        27966          14748       Organic Raspberries\n",
       "9        16797          13945              Strawberries\n",
       "10       26209          13327                     Limes\n",
       "11       22935          11145      Organic Yellow Onion\n",
       "12       24964          10411            Organic Garlic\n",
       "13       45007          10076          Organic Zucchini\n",
       "14       49683           9538            Cucumber Kirby\n",
       "15       28204           8989        Organic Fuji Apple\n",
       "16        8277           8836  Apple Honeycrisp Organic\n",
       "17       39275           8799       Organic Blueberries\n",
       "18        5876           8412             Organic Lemon\n",
       "19       49235           8389       Organic Half & Half"
      ]
     },
     "execution_count": 49,
     "metadata": {},
     "output_type": "execute_result"
    }
   ],
   "source": [
    "#Merge reordered values with the product_id and product_name columns of the product dataframe.\n",
    "reordered_20 = reordered_values.merge(products[['product_id', 'product_name']], on='product_id', how='left')\n",
    "\n",
    "#Add on='product_id' to as an argument to merge() in order to merge on the product_id column.  \n",
    "#Add how= 'left' as an argument to merge() in order to perform a left merge.\n",
    "reordered_20"
   ]
  },
  {
   "cell_type": "markdown",
   "id": "23b501ed",
   "metadata": {},
   "source": [
    "<div class=\"alert alert-block alert-danger\">\n",
    "<b>Reviewer's comment</b> <a class=\"tocSkip\"></a>\n",
    "    \n",
    "~~Please try to fix calculation the same way like for 20 most popular products But before you need to filter order_products and leave only rows with reordered = 1~~"
   ]
  },
  {
   "cell_type": "markdown",
   "id": "46003bf2",
   "metadata": {},
   "source": [
    "<div class=\"alert alert-block alert-success\"> <b>Reviewer's comment v2</b> <a \n",
    "class=\"tocSkip\"></a>\n",
    "\n",
    "Well done\n",
    "</div>"
   ]
  },
  {
   "cell_type": "markdown",
   "id": "80e70c74",
   "metadata": {},
   "source": []
  },
  {
   "cell_type": "markdown",
   "id": "9d312b14",
   "metadata": {},
   "source": [
    "### [C3] For each product, what proportion of its orders are reorders?"
   ]
  },
  {
   "cell_type": "code",
   "execution_count": null,
   "id": "8ae9f4b1",
   "metadata": {},
   "outputs": [],
   "source": []
  },
  {
   "cell_type": "code",
   "execution_count": null,
   "id": "103e7fe1",
   "metadata": {},
   "outputs": [],
   "source": []
  },
  {
   "cell_type": "code",
   "execution_count": null,
   "id": "social-individual",
   "metadata": {},
   "outputs": [],
   "source": []
  },
  {
   "cell_type": "markdown",
   "id": "subject-boxing",
   "metadata": {},
   "source": [
    "### [C4] For each customer, what proportion of their products ordered are reorders?"
   ]
  },
  {
   "cell_type": "code",
   "execution_count": null,
   "id": "medical-couple",
   "metadata": {
    "scrolled": true
   },
   "outputs": [],
   "source": []
  },
  {
   "cell_type": "code",
   "execution_count": null,
   "id": "8892e4b4",
   "metadata": {},
   "outputs": [],
   "source": []
  },
  {
   "cell_type": "markdown",
   "id": "92d35137",
   "metadata": {},
   "source": [
    "### [C5] What are the top 20 items that people put in their carts first? "
   ]
  },
  {
   "cell_type": "code",
   "execution_count": null,
   "id": "0ae57274",
   "metadata": {
    "scrolled": true
   },
   "outputs": [],
   "source": []
  },
  {
   "cell_type": "code",
   "execution_count": null,
   "id": "forty-netherlands",
   "metadata": {
    "scrolled": true
   },
   "outputs": [],
   "source": []
  },
  {
   "cell_type": "code",
   "execution_count": null,
   "id": "08e41ec2",
   "metadata": {},
   "outputs": [],
   "source": []
  },
  {
   "cell_type": "markdown",
   "id": "28ce9872",
   "metadata": {},
   "source": []
  },
  {
   "cell_type": "code",
   "execution_count": null,
   "id": "f4a2af09",
   "metadata": {},
   "outputs": [],
   "source": []
  },
  {
   "cell_type": "code",
   "execution_count": null,
   "id": "78e5e434",
   "metadata": {},
   "outputs": [],
   "source": []
  }
 ],
 "metadata": {
  "kernelspec": {
   "display_name": "Python 3 (ipykernel)",
   "language": "python",
   "name": "python3"
  },
  "language_info": {
   "codemirror_mode": {
    "name": "ipython",
    "version": 3
   },
   "file_extension": ".py",
   "mimetype": "text/x-python",
   "name": "python",
   "nbconvert_exporter": "python",
   "pygments_lexer": "ipython3",
   "version": "3.11.5"
  },
  "toc": {
   "base_numbering": 1,
   "nav_menu": {},
   "number_sections": true,
   "sideBar": true,
   "skip_h1_title": true,
   "title_cell": "Table of Contents",
   "title_sidebar": "Contents",
   "toc_cell": false,
   "toc_position": {},
   "toc_section_display": true,
   "toc_window_display": false
  },
  "vscode": {
   "interpreter": {
    "hash": "01a7be9ec63e704a62cefc5fe7a4756944464ee731be31632bdf42a4cb4688cf"
   }
  }
 },
 "nbformat": 4,
 "nbformat_minor": 5
}
